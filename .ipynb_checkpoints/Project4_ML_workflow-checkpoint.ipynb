{
 "cells": [
  {
   "cell_type": "markdown",
   "metadata": {},
   "source": [
    "###Project 4: Identifying Fraud from Enron Email | Intro Machine Learning\n",
    "- Author:  Chi-Yuan Cheng (cyuancheng AT gmail DOT com) \n",
    "- Last updated: August 3th , 2015\n",
    "\n",
    "The goal of this project is to develop machine learning algorithm, together with scikit-learn Python module, to predict the person of interest (POI) of a fraud from the email and financial (E+F) dataset. POIs were ‘individuals who were indicted, reached a settlement, or plea deal with the government, or testified in exchange for prosecution immunity.’  The E+F dataset from the Enron Corpus was used as features for the POI prediction."
   ]
  },
  {
   "cell_type": "code",
   "execution_count": 2,
   "metadata": {
    "collapsed": false
   },
   "outputs": [],
   "source": [
    "import sys\n",
    "import pickle\n",
    "sys.path.append(\"./tools/\")\n",
    "sys.path.append(\"../tools/\")\n",
    "\n",
    "import matplotlib.pyplot as plt\n",
    "import seaborn as sns\n",
    "import numpy as np\n",
    "import pandas as pd\n",
    "\n",
    "from feature_format import featureFormat\n",
    "from feature_format import targetFeatureSplit\n",
    "\n",
    "from poi_model import *\n",
    "from poi_dataprocess import *\n",
    "\n",
    "%matplotlib inline\n",
    "\n",
    "# sklearn packages below\n",
    "from sklearn import preprocessing\n",
    "from sklearn.grid_search import GridSearchCV\n",
    "from sklearn.cross_validation import train_test_split\n",
    "from sklearn.cross_validation import cross_val_score\n",
    "from sklearn.metrics import classification_report\n",
    "from sklearn.metrics import make_scorer\n",
    "from sklearn.metrics import f1_score\n",
    "from sklearn.metrics import recall_score\n",
    "from sklearn.metrics import precision_score\n",
    "from sklearn.metrics import accuracy_score\n",
    "from sklearn.naive_bayes import GaussianNB\n",
    "from sklearn.feature_selection import SelectKBest\n",
    "from sklearn.feature_selection import chi2\n",
    "\n",
    "from sklearn.pipeline import Pipeline\n",
    "from sklearn.decomposition import PCA\n",
    "\n",
    "from sklearn.naive_bayes import GaussianNB\n",
    "from sklearn.tree import DecisionTreeClassifier\n",
    "from sklearn.svm import LinearSVC\n",
    "from sklearn.svm import SVC\n",
    "from sklearn.ensemble import AdaBoostClassifier\n",
    "from sklearn.ensemble import RandomForestClassifier\n",
    "from sklearn.neighbors import KNeighborsClassifier\n",
    "from sklearn.linear_model import LogisticRegression\n",
    "from sklearn.cluster import KMeans"
   ]
  },
  {
   "cell_type": "code",
   "execution_count": 311,
   "metadata": {
    "collapsed": true
   },
   "outputs": [],
   "source": [
    "# for color codes for figures\n",
    "\n",
    "tableau20 = [(31, 119, 180), (174, 199, 232), (255, 127, 14), (255, 187, 120),  \n",
    "             (44, 160, 44), (152, 223, 138), (214, 39, 40), (255, 152, 150),  \n",
    "             (148, 103, 189), (197, 176, 213), (140, 86, 75), (196, 156, 148),  \n",
    "             (227, 119, 194), (247, 182, 210), (127, 127, 127), (199, 199, 199),  \n",
    "             (188, 189, 34), (219, 219, 141), (23, 190, 207), (158, 218, 229)]  \n",
    "\n",
    "for i in range(len(tableau20)):  \n",
    "    r, g, b = tableau20[i]  \n",
    "    tableau20[i] = (r / 255., g / 255., b / 255.)  "
   ]
  },
  {
   "cell_type": "markdown",
   "metadata": {},
   "source": [
    "###1. Enron dataset"
   ]
  },
  {
   "cell_type": "markdown",
   "metadata": {},
   "source": [
    "Load data"
   ]
  },
  {
   "cell_type": "code",
   "execution_count": 4,
   "metadata": {
    "collapsed": false
   },
   "outputs": [
    {
     "data": {
      "text/html": [
       "<div style=\"max-height:1000px;max-width:1500px;overflow:auto;\">\n",
       "<table border=\"1\" class=\"dataframe\">\n",
       "  <thead>\n",
       "    <tr style=\"text-align: right;\">\n",
       "      <th></th>\n",
       "      <th>salary</th>\n",
       "      <th>to_messages</th>\n",
       "      <th>deferral_payments</th>\n",
       "      <th>total_payments</th>\n",
       "      <th>exercised_stock_options</th>\n",
       "      <th>bonus</th>\n",
       "      <th>restricted_stock</th>\n",
       "      <th>shared_receipt_with_poi</th>\n",
       "      <th>restricted_stock_deferred</th>\n",
       "      <th>total_stock_value</th>\n",
       "      <th>...</th>\n",
       "      <th>loan_advances</th>\n",
       "      <th>from_messages</th>\n",
       "      <th>other</th>\n",
       "      <th>from_this_person_to_poi</th>\n",
       "      <th>poi</th>\n",
       "      <th>director_fees</th>\n",
       "      <th>deferred_income</th>\n",
       "      <th>long_term_incentive</th>\n",
       "      <th>email_address</th>\n",
       "      <th>from_poi_to_this_person</th>\n",
       "    </tr>\n",
       "  </thead>\n",
       "  <tbody>\n",
       "    <tr>\n",
       "      <th>ALLEN PHILLIP K</th>\n",
       "      <td>201955</td>\n",
       "      <td>2902</td>\n",
       "      <td>2869717</td>\n",
       "      <td>4484442</td>\n",
       "      <td>1729541</td>\n",
       "      <td>4175000</td>\n",
       "      <td>126027</td>\n",
       "      <td>1407</td>\n",
       "      <td>-126027</td>\n",
       "      <td>1729541</td>\n",
       "      <td>...</td>\n",
       "      <td>NaN</td>\n",
       "      <td>2195</td>\n",
       "      <td>152</td>\n",
       "      <td>65</td>\n",
       "      <td>False</td>\n",
       "      <td>NaN</td>\n",
       "      <td>-3081055</td>\n",
       "      <td>304805</td>\n",
       "      <td>phillip.allen@enron.com</td>\n",
       "      <td>47</td>\n",
       "    </tr>\n",
       "    <tr>\n",
       "      <th>BADUM JAMES P</th>\n",
       "      <td>NaN</td>\n",
       "      <td>NaN</td>\n",
       "      <td>178980</td>\n",
       "      <td>182466</td>\n",
       "      <td>257817</td>\n",
       "      <td>NaN</td>\n",
       "      <td>NaN</td>\n",
       "      <td>NaN</td>\n",
       "      <td>NaN</td>\n",
       "      <td>257817</td>\n",
       "      <td>...</td>\n",
       "      <td>NaN</td>\n",
       "      <td>NaN</td>\n",
       "      <td>NaN</td>\n",
       "      <td>NaN</td>\n",
       "      <td>False</td>\n",
       "      <td>NaN</td>\n",
       "      <td>NaN</td>\n",
       "      <td>NaN</td>\n",
       "      <td>NaN</td>\n",
       "      <td>NaN</td>\n",
       "    </tr>\n",
       "    <tr>\n",
       "      <th>BANNANTINE JAMES M</th>\n",
       "      <td>477</td>\n",
       "      <td>566</td>\n",
       "      <td>NaN</td>\n",
       "      <td>916197</td>\n",
       "      <td>4046157</td>\n",
       "      <td>NaN</td>\n",
       "      <td>1757552</td>\n",
       "      <td>465</td>\n",
       "      <td>-560222</td>\n",
       "      <td>5243487</td>\n",
       "      <td>...</td>\n",
       "      <td>NaN</td>\n",
       "      <td>29</td>\n",
       "      <td>864523</td>\n",
       "      <td>0</td>\n",
       "      <td>False</td>\n",
       "      <td>NaN</td>\n",
       "      <td>-5104</td>\n",
       "      <td>NaN</td>\n",
       "      <td>james.bannantine@enron.com</td>\n",
       "      <td>39</td>\n",
       "    </tr>\n",
       "    <tr>\n",
       "      <th>BAXTER JOHN C</th>\n",
       "      <td>267102</td>\n",
       "      <td>NaN</td>\n",
       "      <td>1295738</td>\n",
       "      <td>5634343</td>\n",
       "      <td>6680544</td>\n",
       "      <td>1200000</td>\n",
       "      <td>3942714</td>\n",
       "      <td>NaN</td>\n",
       "      <td>NaN</td>\n",
       "      <td>10623258</td>\n",
       "      <td>...</td>\n",
       "      <td>NaN</td>\n",
       "      <td>NaN</td>\n",
       "      <td>2660303</td>\n",
       "      <td>NaN</td>\n",
       "      <td>False</td>\n",
       "      <td>NaN</td>\n",
       "      <td>-1386055</td>\n",
       "      <td>1586055</td>\n",
       "      <td>NaN</td>\n",
       "      <td>NaN</td>\n",
       "    </tr>\n",
       "    <tr>\n",
       "      <th>BAY FRANKLIN R</th>\n",
       "      <td>239671</td>\n",
       "      <td>NaN</td>\n",
       "      <td>260455</td>\n",
       "      <td>827696</td>\n",
       "      <td>NaN</td>\n",
       "      <td>400000</td>\n",
       "      <td>145796</td>\n",
       "      <td>NaN</td>\n",
       "      <td>-82782</td>\n",
       "      <td>63014</td>\n",
       "      <td>...</td>\n",
       "      <td>NaN</td>\n",
       "      <td>NaN</td>\n",
       "      <td>69</td>\n",
       "      <td>NaN</td>\n",
       "      <td>False</td>\n",
       "      <td>NaN</td>\n",
       "      <td>-201641</td>\n",
       "      <td>NaN</td>\n",
       "      <td>frank.bay@enron.com</td>\n",
       "      <td>NaN</td>\n",
       "    </tr>\n",
       "  </tbody>\n",
       "</table>\n",
       "<p>5 rows × 21 columns</p>\n",
       "</div>"
      ],
      "text/plain": [
       "                    salary to_messages deferral_payments total_payments  \\\n",
       "ALLEN PHILLIP K     201955        2902           2869717        4484442   \n",
       "BADUM JAMES P          NaN         NaN            178980         182466   \n",
       "BANNANTINE JAMES M     477         566               NaN         916197   \n",
       "BAXTER JOHN C       267102         NaN           1295738        5634343   \n",
       "BAY FRANKLIN R      239671         NaN            260455         827696   \n",
       "\n",
       "                   exercised_stock_options    bonus restricted_stock  \\\n",
       "ALLEN PHILLIP K                    1729541  4175000           126027   \n",
       "BADUM JAMES P                       257817      NaN              NaN   \n",
       "BANNANTINE JAMES M                 4046157      NaN          1757552   \n",
       "BAXTER JOHN C                      6680544  1200000          3942714   \n",
       "BAY FRANKLIN R                         NaN   400000           145796   \n",
       "\n",
       "                   shared_receipt_with_poi restricted_stock_deferred  \\\n",
       "ALLEN PHILLIP K                       1407                   -126027   \n",
       "BADUM JAMES P                          NaN                       NaN   \n",
       "BANNANTINE JAMES M                     465                   -560222   \n",
       "BAXTER JOHN C                          NaN                       NaN   \n",
       "BAY FRANKLIN R                         NaN                    -82782   \n",
       "\n",
       "                   total_stock_value           ...           loan_advances  \\\n",
       "ALLEN PHILLIP K              1729541           ...                     NaN   \n",
       "BADUM JAMES P                 257817           ...                     NaN   \n",
       "BANNANTINE JAMES M           5243487           ...                     NaN   \n",
       "BAXTER JOHN C               10623258           ...                     NaN   \n",
       "BAY FRANKLIN R                 63014           ...                     NaN   \n",
       "\n",
       "                   from_messages    other from_this_person_to_poi    poi  \\\n",
       "ALLEN PHILLIP K             2195      152                      65  False   \n",
       "BADUM JAMES P                NaN      NaN                     NaN  False   \n",
       "BANNANTINE JAMES M            29   864523                       0  False   \n",
       "BAXTER JOHN C                NaN  2660303                     NaN  False   \n",
       "BAY FRANKLIN R               NaN       69                     NaN  False   \n",
       "\n",
       "                   director_fees deferred_income long_term_incentive  \\\n",
       "ALLEN PHILLIP K              NaN        -3081055              304805   \n",
       "BADUM JAMES P                NaN             NaN                 NaN   \n",
       "BANNANTINE JAMES M           NaN           -5104                 NaN   \n",
       "BAXTER JOHN C                NaN        -1386055             1586055   \n",
       "BAY FRANKLIN R               NaN         -201641                 NaN   \n",
       "\n",
       "                                 email_address from_poi_to_this_person  \n",
       "ALLEN PHILLIP K        phillip.allen@enron.com                      47  \n",
       "BADUM JAMES P                              NaN                     NaN  \n",
       "BANNANTINE JAMES M  james.bannantine@enron.com                      39  \n",
       "BAXTER JOHN C                              NaN                     NaN  \n",
       "BAY FRANKLIN R             frank.bay@enron.com                     NaN  \n",
       "\n",
       "[5 rows x 21 columns]"
      ]
     },
     "execution_count": 4,
     "metadata": {},
     "output_type": "execute_result"
    }
   ],
   "source": [
    "#data_dict = pickle.load(open(\"my_dataset.pkl\", \"r\") )\n",
    "data_dict = pickle.load(open(\"final_project_dataset.pkl\", \"r\") )\n",
    "\n",
    "# load original dataset\n",
    "df = pd.DataFrame.from_dict(data_dict, orient='index')\n",
    "df.head()"
   ]
  },
  {
   "cell_type": "markdown",
   "metadata": {},
   "source": [
    "####Data Exploration"
   ]
  },
  {
   "cell_type": "code",
   "execution_count": 5,
   "metadata": {
    "collapsed": false
   },
   "outputs": [
    {
     "name": "stdout",
     "output_type": "stream",
     "text": [
      "Length of dataset:  146\n",
      "Number of features:  21\n",
      "POIs: 18\n"
     ]
    }
   ],
   "source": [
    "print 'Length of dataset: ',len(data_dict)\n",
    "print 'Number of features: ',len(data_dict[data_dict.keys()[0]])\n",
    "\n",
    "# count POIs\n",
    "pois = 0\n",
    "nantppoi = 0.0\n",
    "for e in data_dict:\n",
    "    if data_dict[e]['poi'] == True:\n",
    "        pois += 1\n",
    "print 'POIs: ' + str(pois)"
   ]
  },
  {
   "cell_type": "code",
   "execution_count": 6,
   "metadata": {
    "collapsed": false
   },
   "outputs": [
    {
     "data": {
      "text/plain": [
       "array([2902, 'NaN', 566, 7315, 7991, 383, 523, 1607, 2475, 1858, 1486,\n",
       "       1088, 3523, 2598, 312, 1892, 1758, 764, 102, 714, 3093, 2181, 2572,\n",
       "       176, 865, 904, 1755, 936, 517, 57, 3275, 209, 169, 873, 4009, 1045,\n",
       "       573, 504, 2649, 1320, 2350, 719, 128, 496, 258, 4607, 12754, 8305,\n",
       "       2374, 7259, 4273, 2822, 952, 1522, 1433, 1744, 3329, 894, 2355, 807,\n",
       "       232, 672, 136, 2192, 1184, 898, 1238, 58, 653, 1671, 905, 1328,\n",
       "       3221, 15149, 3136, 225, 613, 3187, 3627, 2647, 533, 266, 460, 111,\n",
       "       671, 400, 6019], dtype=object)"
      ]
     },
     "execution_count": 6,
     "metadata": {},
     "output_type": "execute_result"
    }
   ],
   "source": [
    "df['to_messages'].unique()"
   ]
  },
  {
   "cell_type": "code",
   "execution_count": 7,
   "metadata": {
    "collapsed": false
   },
   "outputs": [
    {
     "data": {
      "text/plain": [
       "array(['salary', 'to_messages', 'deferral_payments', 'total_payments',\n",
       "       'exercised_stock_options', 'bonus', 'restricted_stock',\n",
       "       'shared_receipt_with_poi', 'restricted_stock_deferred',\n",
       "       'total_stock_value', 'expenses', 'loan_advances', 'from_messages',\n",
       "       'other', 'from_this_person_to_poi', 'poi', 'director_fees',\n",
       "       'deferred_income', 'long_term_incentive', 'email_address',\n",
       "       'from_poi_to_this_person'], dtype=object)"
      ]
     },
     "execution_count": 7,
     "metadata": {},
     "output_type": "execute_result"
    }
   ],
   "source": [
    "# print features\n",
    "df.columns.values"
   ]
  },
  {
   "cell_type": "markdown",
   "metadata": {},
   "source": [
    "In this dataset, 'NaN' was imported as a string, instead of a a missing value. \n",
    "I converted 'NaN' to NaN type (np.nan) and counted how many missing values in the dataset."
   ]
  },
  {
   "cell_type": "code",
   "execution_count": 8,
   "metadata": {
    "collapsed": false
   },
   "outputs": [
    {
     "name": "stdout",
     "output_type": "stream",
     "text": [
      "<class 'pandas.core.frame.DataFrame'>\n",
      "Index: 146 entries, ALLEN PHILLIP K to YEAP SOON\n",
      "Data columns (total 21 columns):\n",
      "salary                       95 non-null float64\n",
      "to_messages                  86 non-null float64\n",
      "deferral_payments            39 non-null float64\n",
      "total_payments               125 non-null float64\n",
      "exercised_stock_options      102 non-null float64\n",
      "bonus                        82 non-null float64\n",
      "restricted_stock             110 non-null float64\n",
      "shared_receipt_with_poi      86 non-null float64\n",
      "restricted_stock_deferred    18 non-null float64\n",
      "total_stock_value            126 non-null float64\n",
      "expenses                     95 non-null float64\n",
      "loan_advances                4 non-null float64\n",
      "from_messages                86 non-null float64\n",
      "other                        93 non-null float64\n",
      "from_this_person_to_poi      86 non-null float64\n",
      "poi                          146 non-null bool\n",
      "director_fees                17 non-null float64\n",
      "deferred_income              49 non-null float64\n",
      "long_term_incentive          66 non-null float64\n",
      "email_address                111 non-null object\n",
      "from_poi_to_this_person      86 non-null float64\n",
      "dtypes: bool(1), float64(19), object(1)\n",
      "memory usage: 24.1+ KB\n"
     ]
    }
   ],
   "source": [
    "# replace with np.nan\n",
    "df = df.replace('NaN', np.nan)\n",
    "\n",
    "#show data counts (without NaN)\n",
    "df.info()"
   ]
  },
  {
   "cell_type": "markdown",
   "metadata": {},
   "source": [
    "Let's explore the data more detail. Explore the following key people in Enron:"
   ]
  },
  {
   "cell_type": "code",
   "execution_count": 9,
   "metadata": {
    "collapsed": false
   },
   "outputs": [
    {
     "name": "stdout",
     "output_type": "stream",
     "text": [
      "#####Kenneth Lay (Founder, Chairman of the Enron board directors duirng the time fraud was going on)#####\n",
      "salary                                     1072321\n",
      "to_messages                                   4273\n",
      "deferral_payments                           202911\n",
      "total_payments                        1.035598e+08\n",
      "exercised_stock_options               3.434838e+07\n",
      "bonus                                      7000000\n",
      "restricted_stock                      1.476169e+07\n",
      "shared_receipt_with_poi                       2411\n",
      "restricted_stock_deferred                      NaN\n",
      "total_stock_value                     4.911008e+07\n",
      "expenses                                     99832\n",
      "loan_advances                           8.1525e+07\n",
      "from_messages                                   36\n",
      "other                                 1.035973e+07\n",
      "from_this_person_to_poi                         16\n",
      "poi                                           True\n",
      "director_fees                                  NaN\n",
      "deferred_income                            -300000\n",
      "long_term_incentive                        3600000\n",
      "email_address                kenneth.lay@enron.com\n",
      "from_poi_to_this_person                        123\n",
      "Name: LAY KENNETH L, dtype: object\n",
      "#####Jeffrey Skilling (Former CEO duirng the time fraud was going on) #####\n",
      "salary                                       1111258\n",
      "to_messages                                     3627\n",
      "deferral_payments                                NaN\n",
      "total_payments                               8682716\n",
      "exercised_stock_options                    1.925e+07\n",
      "bonus                                        5600000\n",
      "restricted_stock                             6843672\n",
      "shared_receipt_with_poi                         2042\n",
      "restricted_stock_deferred                        NaN\n",
      "total_stock_value                       2.609367e+07\n",
      "expenses                                       29336\n",
      "loan_advances                                    NaN\n",
      "from_messages                                    108\n",
      "other                                          22122\n",
      "from_this_person_to_poi                           30\n",
      "poi                                             True\n",
      "director_fees                                    NaN\n",
      "deferred_income                                  NaN\n",
      "long_term_incentive                          1920000\n",
      "email_address                jeff.skilling@enron.com\n",
      "from_poi_to_this_person                           88\n",
      "Name: SKILLING JEFFREY K, dtype: object\n",
      "#####Andrew Fastow (Former CFO duirng the time fraud was going on) #####\n",
      "salary                                     304588\n",
      "to_messages                                  1755\n",
      "deferral_payments                             NaN\n",
      "total_payments                            3676340\n",
      "exercised_stock_options                    940257\n",
      "bonus                                     2500000\n",
      "restricted_stock                          1392142\n",
      "shared_receipt_with_poi                      1604\n",
      "restricted_stock_deferred                     NaN\n",
      "total_stock_value                         2332399\n",
      "expenses                                    95924\n",
      "loan_advances                                 NaN\n",
      "from_messages                                  75\n",
      "other                                      401481\n",
      "from_this_person_to_poi                        37\n",
      "poi                                         False\n",
      "director_fees                                 NaN\n",
      "deferred_income                               NaN\n",
      "long_term_incentive                        374347\n",
      "email_address                jim.fallon@enron.com\n",
      "from_poi_to_this_person                        42\n",
      "Name: FALLON JAMES B, dtype: object\n"
     ]
    }
   ],
   "source": [
    "print \"#####Kenneth Lay (Founder, Chairman of the Enron board directors duirng the time fraud was going on)#####\"\n",
    "print df.T['LAY KENNETH L']\n",
    "print \"#####Jeffrey Skilling (Former CEO duirng the time fraud was going on) #####\"\n",
    "print df.T['SKILLING JEFFREY K']\n",
    "print \"#####Andrew Fastow (Former CFO duirng the time fraud was going on) #####\"\n",
    "print df.T['FALLON JAMES B']"
   ]
  },
  {
   "cell_type": "markdown",
   "metadata": {},
   "source": [
    "Notably, there are lots of missing values in this dataset!"
   ]
  },
  {
   "cell_type": "code",
   "execution_count": 10,
   "metadata": {
    "collapsed": false
   },
   "outputs": [
    {
     "name": "stdout",
     "output_type": "stream",
     "text": [
      "Numbers of missing values:\n"
     ]
    },
    {
     "data": {
      "text/plain": [
       "salary                        51\n",
       "to_messages                   60\n",
       "deferral_payments            107\n",
       "total_payments                21\n",
       "exercised_stock_options       44\n",
       "bonus                         64\n",
       "restricted_stock              36\n",
       "shared_receipt_with_poi       60\n",
       "restricted_stock_deferred    128\n",
       "total_stock_value             20\n",
       "expenses                      51\n",
       "loan_advances                142\n",
       "from_messages                 60\n",
       "other                         53\n",
       "from_this_person_to_poi       60\n",
       "poi                            0\n",
       "director_fees                129\n",
       "deferred_income               97\n",
       "long_term_incentive           80\n",
       "email_address                 35\n",
       "from_poi_to_this_person       60\n",
       "dtype: int64"
      ]
     },
     "execution_count": 10,
     "metadata": {},
     "output_type": "execute_result"
    }
   ],
   "source": [
    "print \"Numbers of missing values:\"\n",
    "len(df.index) - df.count()"
   ]
  },
  {
   "cell_type": "markdown",
   "metadata": {},
   "source": [
    "####Outlier"
   ]
  },
  {
   "cell_type": "markdown",
   "metadata": {},
   "source": [
    "First, check outliners in the dataset by looking at names without a space \" \"."
   ]
  },
  {
   "cell_type": "code",
   "execution_count": 11,
   "metadata": {
    "collapsed": false
   },
   "outputs": [
    {
     "data": {
      "text/plain": [
       "['TOTAL']"
      ]
     },
     "execution_count": 11,
     "metadata": {},
     "output_type": "execute_result"
    }
   ],
   "source": [
    "[outlier for outlier in df.index if \" \" not in outlier]"
   ]
  },
  {
   "cell_type": "markdown",
   "metadata": {},
   "source": [
    "TOTAL is an aggregate category, and not a person's name. It should be removed."
   ]
  },
  {
   "cell_type": "code",
   "execution_count": 12,
   "metadata": {
    "collapsed": false
   },
   "outputs": [],
   "source": [
    "df1 = df.copy() # make a new dataframe, df1\n",
    "df1 = df1.drop('TOTAL', 0)"
   ]
  },
  {
   "cell_type": "markdown",
   "metadata": {},
   "source": [
    "Next, I look at people who only have 3 or less feature entries out of 21 features."
   ]
  },
  {
   "cell_type": "code",
   "execution_count": 13,
   "metadata": {
    "collapsed": false
   },
   "outputs": [
    {
     "name": "stdout",
     "output_type": "stream",
     "text": [
      "[(56, 3), (84, 1), (127, 3), (138, 3), (143, 3)]\n"
     ]
    },
    {
     "data": {
      "text/html": [
       "<div style=\"max-height:1000px;max-width:1500px;overflow:auto;\">\n",
       "<table border=\"1\" class=\"dataframe\">\n",
       "  <thead>\n",
       "    <tr style=\"text-align: right;\">\n",
       "      <th></th>\n",
       "      <th>salary</th>\n",
       "      <th>to_messages</th>\n",
       "      <th>deferral_payments</th>\n",
       "      <th>total_payments</th>\n",
       "      <th>exercised_stock_options</th>\n",
       "      <th>bonus</th>\n",
       "      <th>restricted_stock</th>\n",
       "      <th>shared_receipt_with_poi</th>\n",
       "      <th>restricted_stock_deferred</th>\n",
       "      <th>total_stock_value</th>\n",
       "      <th>...</th>\n",
       "      <th>loan_advances</th>\n",
       "      <th>from_messages</th>\n",
       "      <th>other</th>\n",
       "      <th>from_this_person_to_poi</th>\n",
       "      <th>poi</th>\n",
       "      <th>director_fees</th>\n",
       "      <th>deferred_income</th>\n",
       "      <th>long_term_incentive</th>\n",
       "      <th>email_address</th>\n",
       "      <th>from_poi_to_this_person</th>\n",
       "    </tr>\n",
       "  </thead>\n",
       "  <tbody>\n",
       "    <tr>\n",
       "      <th>GRAMM WENDY L</th>\n",
       "      <td>NaN</td>\n",
       "      <td>NaN</td>\n",
       "      <td>NaN</td>\n",
       "      <td>119292</td>\n",
       "      <td>NaN</td>\n",
       "      <td>NaN</td>\n",
       "      <td>NaN</td>\n",
       "      <td>NaN</td>\n",
       "      <td>NaN</td>\n",
       "      <td>NaN</td>\n",
       "      <td>...</td>\n",
       "      <td>NaN</td>\n",
       "      <td>NaN</td>\n",
       "      <td>NaN</td>\n",
       "      <td>NaN</td>\n",
       "      <td>False</td>\n",
       "      <td>119292</td>\n",
       "      <td>NaN</td>\n",
       "      <td>NaN</td>\n",
       "      <td>NaN</td>\n",
       "      <td>NaN</td>\n",
       "    </tr>\n",
       "    <tr>\n",
       "      <th>LOCKHART EUGENE E</th>\n",
       "      <td>NaN</td>\n",
       "      <td>NaN</td>\n",
       "      <td>NaN</td>\n",
       "      <td>NaN</td>\n",
       "      <td>NaN</td>\n",
       "      <td>NaN</td>\n",
       "      <td>NaN</td>\n",
       "      <td>NaN</td>\n",
       "      <td>NaN</td>\n",
       "      <td>NaN</td>\n",
       "      <td>...</td>\n",
       "      <td>NaN</td>\n",
       "      <td>NaN</td>\n",
       "      <td>NaN</td>\n",
       "      <td>NaN</td>\n",
       "      <td>False</td>\n",
       "      <td>NaN</td>\n",
       "      <td>NaN</td>\n",
       "      <td>NaN</td>\n",
       "      <td>NaN</td>\n",
       "      <td>NaN</td>\n",
       "    </tr>\n",
       "    <tr>\n",
       "      <th>THE TRAVEL AGENCY IN THE PARK</th>\n",
       "      <td>NaN</td>\n",
       "      <td>NaN</td>\n",
       "      <td>NaN</td>\n",
       "      <td>362096</td>\n",
       "      <td>NaN</td>\n",
       "      <td>NaN</td>\n",
       "      <td>NaN</td>\n",
       "      <td>NaN</td>\n",
       "      <td>NaN</td>\n",
       "      <td>NaN</td>\n",
       "      <td>...</td>\n",
       "      <td>NaN</td>\n",
       "      <td>NaN</td>\n",
       "      <td>362096</td>\n",
       "      <td>NaN</td>\n",
       "      <td>False</td>\n",
       "      <td>NaN</td>\n",
       "      <td>NaN</td>\n",
       "      <td>NaN</td>\n",
       "      <td>NaN</td>\n",
       "      <td>NaN</td>\n",
       "    </tr>\n",
       "    <tr>\n",
       "      <th>WESTFAHL RICHARD K</th>\n",
       "      <td>63744</td>\n",
       "      <td>NaN</td>\n",
       "      <td>NaN</td>\n",
       "      <td>762135</td>\n",
       "      <td>NaN</td>\n",
       "      <td>NaN</td>\n",
       "      <td>384930</td>\n",
       "      <td>NaN</td>\n",
       "      <td>NaN</td>\n",
       "      <td>384930</td>\n",
       "      <td>...</td>\n",
       "      <td>NaN</td>\n",
       "      <td>NaN</td>\n",
       "      <td>401130</td>\n",
       "      <td>NaN</td>\n",
       "      <td>False</td>\n",
       "      <td>NaN</td>\n",
       "      <td>-10800</td>\n",
       "      <td>256191</td>\n",
       "      <td>dick.westfahl@enron.com</td>\n",
       "      <td>NaN</td>\n",
       "    </tr>\n",
       "    <tr>\n",
       "      <th>WODRASKA JOHN</th>\n",
       "      <td>NaN</td>\n",
       "      <td>NaN</td>\n",
       "      <td>NaN</td>\n",
       "      <td>189583</td>\n",
       "      <td>NaN</td>\n",
       "      <td>NaN</td>\n",
       "      <td>NaN</td>\n",
       "      <td>NaN</td>\n",
       "      <td>NaN</td>\n",
       "      <td>NaN</td>\n",
       "      <td>...</td>\n",
       "      <td>NaN</td>\n",
       "      <td>NaN</td>\n",
       "      <td>189583</td>\n",
       "      <td>NaN</td>\n",
       "      <td>False</td>\n",
       "      <td>NaN</td>\n",
       "      <td>NaN</td>\n",
       "      <td>NaN</td>\n",
       "      <td>john.wodraska@enron.com</td>\n",
       "      <td>NaN</td>\n",
       "    </tr>\n",
       "  </tbody>\n",
       "</table>\n",
       "<p>5 rows × 21 columns</p>\n",
       "</div>"
      ],
      "text/plain": [
       "                               salary  to_messages  deferral_payments  \\\n",
       "GRAMM WENDY L                     NaN          NaN                NaN   \n",
       "LOCKHART EUGENE E                 NaN          NaN                NaN   \n",
       "THE TRAVEL AGENCY IN THE PARK     NaN          NaN                NaN   \n",
       "WESTFAHL RICHARD K              63744          NaN                NaN   \n",
       "WODRASKA JOHN                     NaN          NaN                NaN   \n",
       "\n",
       "                               total_payments  exercised_stock_options  bonus  \\\n",
       "GRAMM WENDY L                          119292                      NaN    NaN   \n",
       "LOCKHART EUGENE E                         NaN                      NaN    NaN   \n",
       "THE TRAVEL AGENCY IN THE PARK          362096                      NaN    NaN   \n",
       "WESTFAHL RICHARD K                     762135                      NaN    NaN   \n",
       "WODRASKA JOHN                          189583                      NaN    NaN   \n",
       "\n",
       "                               restricted_stock  shared_receipt_with_poi  \\\n",
       "GRAMM WENDY L                               NaN                      NaN   \n",
       "LOCKHART EUGENE E                           NaN                      NaN   \n",
       "THE TRAVEL AGENCY IN THE PARK               NaN                      NaN   \n",
       "WESTFAHL RICHARD K                       384930                      NaN   \n",
       "WODRASKA JOHN                               NaN                      NaN   \n",
       "\n",
       "                               restricted_stock_deferred  total_stock_value  \\\n",
       "GRAMM WENDY L                                        NaN                NaN   \n",
       "LOCKHART EUGENE E                                    NaN                NaN   \n",
       "THE TRAVEL AGENCY IN THE PARK                        NaN                NaN   \n",
       "WESTFAHL RICHARD K                                   NaN             384930   \n",
       "WODRASKA JOHN                                        NaN                NaN   \n",
       "\n",
       "                                        ...            loan_advances  \\\n",
       "GRAMM WENDY L                           ...                      NaN   \n",
       "LOCKHART EUGENE E                       ...                      NaN   \n",
       "THE TRAVEL AGENCY IN THE PARK           ...                      NaN   \n",
       "WESTFAHL RICHARD K                      ...                      NaN   \n",
       "WODRASKA JOHN                           ...                      NaN   \n",
       "\n",
       "                               from_messages   other  from_this_person_to_poi  \\\n",
       "GRAMM WENDY L                            NaN     NaN                      NaN   \n",
       "LOCKHART EUGENE E                        NaN     NaN                      NaN   \n",
       "THE TRAVEL AGENCY IN THE PARK            NaN  362096                      NaN   \n",
       "WESTFAHL RICHARD K                       NaN  401130                      NaN   \n",
       "WODRASKA JOHN                            NaN  189583                      NaN   \n",
       "\n",
       "                                 poi director_fees  deferred_income  \\\n",
       "GRAMM WENDY L                  False        119292              NaN   \n",
       "LOCKHART EUGENE E              False           NaN              NaN   \n",
       "THE TRAVEL AGENCY IN THE PARK  False           NaN              NaN   \n",
       "WESTFAHL RICHARD K             False           NaN           -10800   \n",
       "WODRASKA JOHN                  False           NaN              NaN   \n",
       "\n",
       "                               long_term_incentive            email_address  \\\n",
       "GRAMM WENDY L                                  NaN                      NaN   \n",
       "LOCKHART EUGENE E                              NaN                      NaN   \n",
       "THE TRAVEL AGENCY IN THE PARK                  NaN                      NaN   \n",
       "WESTFAHL RICHARD K                          256191  dick.westfahl@enron.com   \n",
       "WODRASKA JOHN                                  NaN  john.wodraska@enron.com   \n",
       "\n",
       "                              from_poi_to_this_person  \n",
       "GRAMM WENDY L                                     NaN  \n",
       "LOCKHART EUGENE E                                 NaN  \n",
       "THE TRAVEL AGENCY IN THE PARK                     NaN  \n",
       "WESTFAHL RICHARD K                                NaN  \n",
       "WODRASKA JOHN                                     NaN  \n",
       "\n",
       "[5 rows x 21 columns]"
      ]
     },
     "execution_count": 13,
     "metadata": {},
     "output_type": "execute_result"
    }
   ],
   "source": [
    "print [x for x in enumerate(df.T.count()) if x[1] <= 3]\n",
    "df.irow([56, 84, 127, 137, 142] ) "
   ]
  },
  {
   "cell_type": "markdown",
   "metadata": {},
   "source": [
    "I found that one entry to be a Travel Agency (THE TRAVEL AGENCY IN THE PARK), and \"LOCKHART EUGENE E\" is missing all entries. These two entries should be removed."
   ]
  },
  {
   "cell_type": "code",
   "execution_count": 14,
   "metadata": {
    "collapsed": false
   },
   "outputs": [],
   "source": [
    "df1 = df1.drop('THE TRAVEL AGENCY IN THE PARK', 0)\n",
    "df1 = df1.drop('LOCKHART EUGENE E', 0)"
   ]
  },
  {
   "cell_type": "markdown",
   "metadata": {},
   "source": [
    "Email address is a unique string, so it is not needed for including in the machine learning agronism."
   ]
  },
  {
   "cell_type": "code",
   "execution_count": 15,
   "metadata": {
    "collapsed": true
   },
   "outputs": [],
   "source": [
    "df1 = df1.drop('email_address', 1)"
   ]
  },
  {
   "cell_type": "markdown",
   "metadata": {},
   "source": [
    "Next, let's deal with the NaN's because many machine learning models don't like missing values. If we just fill the missing values with zero, it may bias the data toward those near zero. The solution would be to fill the missing values with median values for each feature."
   ]
  },
  {
   "cell_type": "code",
   "execution_count": 16,
   "metadata": {
    "collapsed": false
   },
   "outputs": [
    {
     "data": {
      "text/html": [
       "<div style=\"max-height:1000px;max-width:1500px;overflow:auto;\">\n",
       "<table border=\"1\" class=\"dataframe\">\n",
       "  <thead>\n",
       "    <tr style=\"text-align: right;\">\n",
       "      <th></th>\n",
       "      <th>salary</th>\n",
       "      <th>to_messages</th>\n",
       "      <th>deferral_payments</th>\n",
       "      <th>total_payments</th>\n",
       "      <th>exercised_stock_options</th>\n",
       "      <th>bonus</th>\n",
       "      <th>restricted_stock</th>\n",
       "      <th>shared_receipt_with_poi</th>\n",
       "      <th>restricted_stock_deferred</th>\n",
       "      <th>total_stock_value</th>\n",
       "      <th>expenses</th>\n",
       "      <th>loan_advances</th>\n",
       "      <th>from_messages</th>\n",
       "      <th>other</th>\n",
       "      <th>from_this_person_to_poi</th>\n",
       "      <th>poi</th>\n",
       "      <th>director_fees</th>\n",
       "      <th>deferred_income</th>\n",
       "      <th>long_term_incentive</th>\n",
       "      <th>from_poi_to_this_person</th>\n",
       "    </tr>\n",
       "  </thead>\n",
       "  <tbody>\n",
       "    <tr>\n",
       "      <th>ALLEN PHILLIP K</th>\n",
       "      <td>201955</td>\n",
       "      <td>2902</td>\n",
       "      <td>2869717.0</td>\n",
       "      <td>4484442</td>\n",
       "      <td>1729541</td>\n",
       "      <td>4175000</td>\n",
       "      <td>126027</td>\n",
       "      <td>1407.0</td>\n",
       "      <td>-126027</td>\n",
       "      <td>1729541</td>\n",
       "      <td>13868</td>\n",
       "      <td>2000000</td>\n",
       "      <td>2195</td>\n",
       "      <td>152</td>\n",
       "      <td>65</td>\n",
       "      <td>False</td>\n",
       "      <td>106164.5</td>\n",
       "      <td>-3081055</td>\n",
       "      <td>304805</td>\n",
       "      <td>47</td>\n",
       "    </tr>\n",
       "    <tr>\n",
       "      <th>BADUM JAMES P</th>\n",
       "      <td>258741</td>\n",
       "      <td>1211</td>\n",
       "      <td>178980.0</td>\n",
       "      <td>182466</td>\n",
       "      <td>257817</td>\n",
       "      <td>750000</td>\n",
       "      <td>441096</td>\n",
       "      <td>740.5</td>\n",
       "      <td>-140264</td>\n",
       "      <td>257817</td>\n",
       "      <td>3486</td>\n",
       "      <td>2000000</td>\n",
       "      <td>41</td>\n",
       "      <td>51587</td>\n",
       "      <td>8</td>\n",
       "      <td>False</td>\n",
       "      <td>106164.5</td>\n",
       "      <td>-151927</td>\n",
       "      <td>422158</td>\n",
       "      <td>35</td>\n",
       "    </tr>\n",
       "    <tr>\n",
       "      <th>BANNANTINE JAMES M</th>\n",
       "      <td>477</td>\n",
       "      <td>566</td>\n",
       "      <td>221063.5</td>\n",
       "      <td>916197</td>\n",
       "      <td>4046157</td>\n",
       "      <td>750000</td>\n",
       "      <td>1757552</td>\n",
       "      <td>465.0</td>\n",
       "      <td>-560222</td>\n",
       "      <td>5243487</td>\n",
       "      <td>56301</td>\n",
       "      <td>2000000</td>\n",
       "      <td>29</td>\n",
       "      <td>864523</td>\n",
       "      <td>0</td>\n",
       "      <td>False</td>\n",
       "      <td>106164.5</td>\n",
       "      <td>-5104</td>\n",
       "      <td>422158</td>\n",
       "      <td>39</td>\n",
       "    </tr>\n",
       "    <tr>\n",
       "      <th>BAXTER JOHN C</th>\n",
       "      <td>267102</td>\n",
       "      <td>1211</td>\n",
       "      <td>1295738.0</td>\n",
       "      <td>5634343</td>\n",
       "      <td>6680544</td>\n",
       "      <td>1200000</td>\n",
       "      <td>3942714</td>\n",
       "      <td>740.5</td>\n",
       "      <td>-140264</td>\n",
       "      <td>10623258</td>\n",
       "      <td>11200</td>\n",
       "      <td>2000000</td>\n",
       "      <td>41</td>\n",
       "      <td>2660303</td>\n",
       "      <td>8</td>\n",
       "      <td>False</td>\n",
       "      <td>106164.5</td>\n",
       "      <td>-1386055</td>\n",
       "      <td>1586055</td>\n",
       "      <td>35</td>\n",
       "    </tr>\n",
       "    <tr>\n",
       "      <th>BAY FRANKLIN R</th>\n",
       "      <td>239671</td>\n",
       "      <td>1211</td>\n",
       "      <td>260455.0</td>\n",
       "      <td>827696</td>\n",
       "      <td>1297049</td>\n",
       "      <td>400000</td>\n",
       "      <td>145796</td>\n",
       "      <td>740.5</td>\n",
       "      <td>-82782</td>\n",
       "      <td>63014</td>\n",
       "      <td>129142</td>\n",
       "      <td>2000000</td>\n",
       "      <td>41</td>\n",
       "      <td>69</td>\n",
       "      <td>8</td>\n",
       "      <td>False</td>\n",
       "      <td>106164.5</td>\n",
       "      <td>-201641</td>\n",
       "      <td>422158</td>\n",
       "      <td>35</td>\n",
       "    </tr>\n",
       "  </tbody>\n",
       "</table>\n",
       "</div>"
      ],
      "text/plain": [
       "                    salary  to_messages  deferral_payments  total_payments  \\\n",
       "ALLEN PHILLIP K     201955         2902          2869717.0         4484442   \n",
       "BADUM JAMES P       258741         1211           178980.0          182466   \n",
       "BANNANTINE JAMES M     477          566           221063.5          916197   \n",
       "BAXTER JOHN C       267102         1211          1295738.0         5634343   \n",
       "BAY FRANKLIN R      239671         1211           260455.0          827696   \n",
       "\n",
       "                    exercised_stock_options    bonus  restricted_stock  \\\n",
       "ALLEN PHILLIP K                     1729541  4175000            126027   \n",
       "BADUM JAMES P                        257817   750000            441096   \n",
       "BANNANTINE JAMES M                  4046157   750000           1757552   \n",
       "BAXTER JOHN C                       6680544  1200000           3942714   \n",
       "BAY FRANKLIN R                      1297049   400000            145796   \n",
       "\n",
       "                    shared_receipt_with_poi  restricted_stock_deferred  \\\n",
       "ALLEN PHILLIP K                      1407.0                    -126027   \n",
       "BADUM JAMES P                         740.5                    -140264   \n",
       "BANNANTINE JAMES M                    465.0                    -560222   \n",
       "BAXTER JOHN C                         740.5                    -140264   \n",
       "BAY FRANKLIN R                        740.5                     -82782   \n",
       "\n",
       "                    total_stock_value  expenses  loan_advances  from_messages  \\\n",
       "ALLEN PHILLIP K               1729541     13868        2000000           2195   \n",
       "BADUM JAMES P                  257817      3486        2000000             41   \n",
       "BANNANTINE JAMES M            5243487     56301        2000000             29   \n",
       "BAXTER JOHN C                10623258     11200        2000000             41   \n",
       "BAY FRANKLIN R                  63014    129142        2000000             41   \n",
       "\n",
       "                      other  from_this_person_to_poi    poi  director_fees  \\\n",
       "ALLEN PHILLIP K         152                       65  False       106164.5   \n",
       "BADUM JAMES P         51587                        8  False       106164.5   \n",
       "BANNANTINE JAMES M   864523                        0  False       106164.5   \n",
       "BAXTER JOHN C       2660303                        8  False       106164.5   \n",
       "BAY FRANKLIN R           69                        8  False       106164.5   \n",
       "\n",
       "                    deferred_income  long_term_incentive  \\\n",
       "ALLEN PHILLIP K            -3081055               304805   \n",
       "BADUM JAMES P               -151927               422158   \n",
       "BANNANTINE JAMES M            -5104               422158   \n",
       "BAXTER JOHN C              -1386055              1586055   \n",
       "BAY FRANKLIN R              -201641               422158   \n",
       "\n",
       "                    from_poi_to_this_person  \n",
       "ALLEN PHILLIP K                          47  \n",
       "BADUM JAMES P                            35  \n",
       "BANNANTINE JAMES M                       39  \n",
       "BAXTER JOHN C                            35  \n",
       "BAY FRANKLIN R                           35  "
      ]
     },
     "execution_count": 16,
     "metadata": {},
     "output_type": "execute_result"
    }
   ],
   "source": [
    "df1 = df1.replace('NaN', np.nan) \n",
    "df1 = df1.apply(lambda x: x.fillna(x.median()), axis=0) # replace nan with median value\n",
    "\n",
    "df1.head()"
   ]
  },
  {
   "cell_type": "markdown",
   "metadata": {},
   "source": [
    "#### Create new features\n",
    "\n",
    "We expect that POIs contact with each other relatively more often than with non-POIs. Therefore, three new features were created and added to the dataset, as below:\n",
    "\n",
    "I will evaluate how these features affect the performance of final algorithm in more detail later."
   ]
  },
  {
   "cell_type": "code",
   "execution_count": 17,
   "metadata": {
    "collapsed": false
   },
   "outputs": [
    {
     "name": "stdout",
     "output_type": "stream",
     "text": [
      "###new features #1 ###\n",
      "ALLEN PHILLIP K       0.009221\n",
      "BADUM JAMES P         0.027955\n",
      "BANNANTINE JAMES M    0.065546\n",
      "BAXTER JOHN C         0.027955\n",
      "BAY FRANKLIN R        0.027955\n",
      "Name: fraction_from_poi, dtype: float64\n",
      "###new features #2 ###\n",
      "ALLEN PHILLIP K       0.012753\n",
      "BADUM JAMES P         0.006390\n",
      "BANNANTINE JAMES M    0.000000\n",
      "BAXTER JOHN C         0.006390\n",
      "BAY FRANKLIN R        0.006390\n",
      "Name: fraction_to_poi, dtype: float64\n",
      "###new features #3 ###\n",
      "ALLEN PHILLIP K       0.021974\n",
      "BADUM JAMES P         0.034345\n",
      "BANNANTINE JAMES M    0.065546\n",
      "BAXTER JOHN C         0.034345\n",
      "BAY FRANKLIN R        0.034345\n",
      "Name: fraction_emails_with_poi, dtype: float64\n"
     ]
    }
   ],
   "source": [
    "## Add three new features to df2\n",
    "df2 = df1.copy() # make a new dataframe, df2\n",
    "\n",
    "df2['fraction_from_poi'] = df2['from_poi_to_this_person'] /(df2['from_messages'] + df2['to_messages'] )\n",
    "\n",
    "df2['fraction_to_poi'] = df2['from_this_person_to_poi'] /(df2['from_messages'] + df2['to_messages'] )\n",
    "\n",
    "df2['fraction_emails_with_poi'] = (df2['from_poi_to_this_person']+ df2['from_this_person_to_poi']) / \\\n",
    "                                (df2['from_messages'] + df2['to_messages'] )\n",
    "print \"###new features #1 ###\"\n",
    "print df2[\"fraction_from_poi\"].head()\n",
    "print \"###new features #2 ###\"\n",
    "print df2['fraction_to_poi'].head()\n",
    "print \"###new features #3 ###\"\n",
    "print df2['fraction_emails_with_poi'].head()"
   ]
  },
  {
   "cell_type": "code",
   "execution_count": 18,
   "metadata": {
    "collapsed": false
   },
   "outputs": [
    {
     "data": {
      "text/plain": [
       "[<matplotlib.lines.Line2D at 0x109d54450>]"
      ]
     },
     "execution_count": 18,
     "metadata": {},
     "output_type": "execute_result"
    },
    {
     "data": {
      "image/png": "[encoded data removed]",
      "text/plain": [
       "<matplotlib.figure.Figure at 0x109d51610>"
      ]
     },
     "metadata": {},
     "output_type": "display_data"
    }
   ],
   "source": [
    "### plot new features\n",
    "plt.plot(df2.fraction_from_poi, df2.fraction_to_poi, 'bo')\n",
    "plt.plot(df2.fraction_from_poi[df2.poi==True], df2.fraction_to_poi[df2.poi==True], 'ro')"
   ]
  },
  {
   "cell_type": "markdown",
   "metadata": {},
   "source": [
    "Next, I plot salaries and bonuses on Enron employees and check outliers in the data."
   ]
  },
  {
   "cell_type": "code",
   "execution_count": 19,
   "metadata": {
    "collapsed": false
   },
   "outputs": [
    {
     "data": {
      "text/plain": [
       "[<matplotlib.lines.Line2D at 0x109cff1d0>]"
      ]
     },
     "execution_count": 19,
     "metadata": {},
     "output_type": "execute_result"
    },
    {
     "data": {
      "image/png": "[encoded data removed]",
      "text/plain": [
       "<matplotlib.figure.Figure at 0x109d51ed0>"
      ]
     },
     "metadata": {},
     "output_type": "display_data"
    }
   ],
   "source": [
    "# plot salary vs bonus\n",
    "plt.plot(df2.salary, df2.bonus, 'bo')\n",
    "plt.plot(df2.salary[df2.poi==True], df2.bonus[df2.poi==True], 'ro')"
   ]
  },
  {
   "cell_type": "markdown",
   "metadata": {},
   "source": [
    "The above plot still contains some outliners. Let's find these outliners:"
   ]
  },
  {
   "cell_type": "code",
   "execution_count": 20,
   "metadata": {
    "collapsed": false
   },
   "outputs": [
    {
     "name": "stdout",
     "output_type": "stream",
     "text": [
      "salary outliners\n"
     ]
    },
    {
     "data": {
      "text/html": [
       "<div style=\"max-height:1000px;max-width:1500px;overflow:auto;\">\n",
       "<table border=\"1\" class=\"dataframe\">\n",
       "  <thead>\n",
       "    <tr style=\"text-align: right;\">\n",
       "      <th></th>\n",
       "      <th>salary</th>\n",
       "      <th>to_messages</th>\n",
       "      <th>deferral_payments</th>\n",
       "      <th>total_payments</th>\n",
       "      <th>exercised_stock_options</th>\n",
       "      <th>bonus</th>\n",
       "      <th>restricted_stock</th>\n",
       "      <th>shared_receipt_with_poi</th>\n",
       "      <th>restricted_stock_deferred</th>\n",
       "      <th>total_stock_value</th>\n",
       "      <th>...</th>\n",
       "      <th>other</th>\n",
       "      <th>from_this_person_to_poi</th>\n",
       "      <th>poi</th>\n",
       "      <th>director_fees</th>\n",
       "      <th>deferred_income</th>\n",
       "      <th>long_term_incentive</th>\n",
       "      <th>from_poi_to_this_person</th>\n",
       "      <th>fraction_from_poi</th>\n",
       "      <th>fraction_to_poi</th>\n",
       "      <th>fraction_emails_with_poi</th>\n",
       "    </tr>\n",
       "  </thead>\n",
       "  <tbody>\n",
       "    <tr>\n",
       "      <th>SKILLING JEFFREY K</th>\n",
       "      <td>1111258</td>\n",
       "      <td>3627</td>\n",
       "      <td>221063.5</td>\n",
       "      <td>8682716</td>\n",
       "      <td>19250000</td>\n",
       "      <td>5600000</td>\n",
       "      <td>6843672</td>\n",
       "      <td>2042</td>\n",
       "      <td>-140264</td>\n",
       "      <td>26093672</td>\n",
       "      <td>...</td>\n",
       "      <td>22122</td>\n",
       "      <td>30</td>\n",
       "      <td>True</td>\n",
       "      <td>106164.5</td>\n",
       "      <td>-151927</td>\n",
       "      <td>1920000</td>\n",
       "      <td>88</td>\n",
       "      <td>0.023561</td>\n",
       "      <td>0.008032</td>\n",
       "      <td>0.031593</td>\n",
       "    </tr>\n",
       "    <tr>\n",
       "      <th>LAY KENNETH L</th>\n",
       "      <td>1072321</td>\n",
       "      <td>4273</td>\n",
       "      <td>202911.0</td>\n",
       "      <td>103559793</td>\n",
       "      <td>34348384</td>\n",
       "      <td>7000000</td>\n",
       "      <td>14761694</td>\n",
       "      <td>2411</td>\n",
       "      <td>-140264</td>\n",
       "      <td>49110078</td>\n",
       "      <td>...</td>\n",
       "      <td>10359729</td>\n",
       "      <td>16</td>\n",
       "      <td>True</td>\n",
       "      <td>106164.5</td>\n",
       "      <td>-300000</td>\n",
       "      <td>3600000</td>\n",
       "      <td>123</td>\n",
       "      <td>0.028545</td>\n",
       "      <td>0.003713</td>\n",
       "      <td>0.032258</td>\n",
       "    </tr>\n",
       "  </tbody>\n",
       "</table>\n",
       "<p>2 rows × 23 columns</p>\n",
       "</div>"
      ],
      "text/plain": [
       "                     salary  to_messages  deferral_payments  total_payments  \\\n",
       "SKILLING JEFFREY K  1111258         3627           221063.5         8682716   \n",
       "LAY KENNETH L       1072321         4273           202911.0       103559793   \n",
       "\n",
       "                    exercised_stock_options    bonus  restricted_stock  \\\n",
       "SKILLING JEFFREY K                 19250000  5600000           6843672   \n",
       "LAY KENNETH L                      34348384  7000000          14761694   \n",
       "\n",
       "                    shared_receipt_with_poi  restricted_stock_deferred  \\\n",
       "SKILLING JEFFREY K                     2042                    -140264   \n",
       "LAY KENNETH L                          2411                    -140264   \n",
       "\n",
       "                    total_stock_value            ...                other  \\\n",
       "SKILLING JEFFREY K           26093672            ...                22122   \n",
       "LAY KENNETH L                49110078            ...             10359729   \n",
       "\n",
       "                    from_this_person_to_poi   poi  director_fees  \\\n",
       "SKILLING JEFFREY K                       30  True       106164.5   \n",
       "LAY KENNETH L                            16  True       106164.5   \n",
       "\n",
       "                    deferred_income long_term_incentive  \\\n",
       "SKILLING JEFFREY K          -151927             1920000   \n",
       "LAY KENNETH L               -300000             3600000   \n",
       "\n",
       "                    from_poi_to_this_person  fraction_from_poi  \\\n",
       "SKILLING JEFFREY K                       88           0.023561   \n",
       "LAY KENNETH L                           123           0.028545   \n",
       "\n",
       "                    fraction_to_poi  fraction_emails_with_poi  \n",
       "SKILLING JEFFREY K         0.008032                  0.031593  \n",
       "LAY KENNETH L              0.003713                  0.032258  \n",
       "\n",
       "[2 rows x 23 columns]"
      ]
     },
     "execution_count": 20,
     "metadata": {},
     "output_type": "execute_result"
    }
   ],
   "source": [
    "print \"salary outliners\"\n",
    "df2.sort(['salary'], ascending=[0]).head(2)"
   ]
  },
  {
   "cell_type": "markdown",
   "metadata": {},
   "source": [
    "Ken Lay and Jeff Skilling are Chairman and former CEO in Enron, respectively. Their salaries are above $1 million.  \n"
   ]
  },
  {
   "cell_type": "code",
   "execution_count": 21,
   "metadata": {
    "collapsed": false
   },
   "outputs": [
    {
     "name": "stdout",
     "output_type": "stream",
     "text": [
      "bonus outliners\n"
     ]
    },
    {
     "data": {
      "text/html": [
       "<div style=\"max-height:1000px;max-width:1500px;overflow:auto;\">\n",
       "<table border=\"1\" class=\"dataframe\">\n",
       "  <thead>\n",
       "    <tr style=\"text-align: right;\">\n",
       "      <th></th>\n",
       "      <th>salary</th>\n",
       "      <th>to_messages</th>\n",
       "      <th>deferral_payments</th>\n",
       "      <th>total_payments</th>\n",
       "      <th>exercised_stock_options</th>\n",
       "      <th>bonus</th>\n",
       "      <th>restricted_stock</th>\n",
       "      <th>shared_receipt_with_poi</th>\n",
       "      <th>restricted_stock_deferred</th>\n",
       "      <th>total_stock_value</th>\n",
       "      <th>...</th>\n",
       "      <th>other</th>\n",
       "      <th>from_this_person_to_poi</th>\n",
       "      <th>poi</th>\n",
       "      <th>director_fees</th>\n",
       "      <th>deferred_income</th>\n",
       "      <th>long_term_incentive</th>\n",
       "      <th>from_poi_to_this_person</th>\n",
       "      <th>fraction_from_poi</th>\n",
       "      <th>fraction_to_poi</th>\n",
       "      <th>fraction_emails_with_poi</th>\n",
       "    </tr>\n",
       "  </thead>\n",
       "  <tbody>\n",
       "    <tr>\n",
       "      <th>LAVORATO JOHN J</th>\n",
       "      <td>339288</td>\n",
       "      <td>7259</td>\n",
       "      <td>221063.5</td>\n",
       "      <td>10425757</td>\n",
       "      <td>4158995</td>\n",
       "      <td>8000000</td>\n",
       "      <td>1008149</td>\n",
       "      <td>3962</td>\n",
       "      <td>-140264</td>\n",
       "      <td>5167144</td>\n",
       "      <td>...</td>\n",
       "      <td>1552</td>\n",
       "      <td>411</td>\n",
       "      <td>False</td>\n",
       "      <td>106164.5</td>\n",
       "      <td>-151927</td>\n",
       "      <td>2035380</td>\n",
       "      <td>528</td>\n",
       "      <td>0.053637</td>\n",
       "      <td>0.041751</td>\n",
       "      <td>0.095388</td>\n",
       "    </tr>\n",
       "    <tr>\n",
       "      <th>LAY KENNETH L</th>\n",
       "      <td>1072321</td>\n",
       "      <td>4273</td>\n",
       "      <td>202911.0</td>\n",
       "      <td>103559793</td>\n",
       "      <td>34348384</td>\n",
       "      <td>7000000</td>\n",
       "      <td>14761694</td>\n",
       "      <td>2411</td>\n",
       "      <td>-140264</td>\n",
       "      <td>49110078</td>\n",
       "      <td>...</td>\n",
       "      <td>10359729</td>\n",
       "      <td>16</td>\n",
       "      <td>True</td>\n",
       "      <td>106164.5</td>\n",
       "      <td>-300000</td>\n",
       "      <td>3600000</td>\n",
       "      <td>123</td>\n",
       "      <td>0.028545</td>\n",
       "      <td>0.003713</td>\n",
       "      <td>0.032258</td>\n",
       "    </tr>\n",
       "  </tbody>\n",
       "</table>\n",
       "<p>2 rows × 23 columns</p>\n",
       "</div>"
      ],
      "text/plain": [
       "                  salary  to_messages  deferral_payments  total_payments  \\\n",
       "LAVORATO JOHN J   339288         7259           221063.5        10425757   \n",
       "LAY KENNETH L    1072321         4273           202911.0       103559793   \n",
       "\n",
       "                 exercised_stock_options    bonus  restricted_stock  \\\n",
       "LAVORATO JOHN J                  4158995  8000000           1008149   \n",
       "LAY KENNETH L                   34348384  7000000          14761694   \n",
       "\n",
       "                 shared_receipt_with_poi  restricted_stock_deferred  \\\n",
       "LAVORATO JOHN J                     3962                    -140264   \n",
       "LAY KENNETH L                       2411                    -140264   \n",
       "\n",
       "                 total_stock_value            ...                other  \\\n",
       "LAVORATO JOHN J            5167144            ...                 1552   \n",
       "LAY KENNETH L             49110078            ...             10359729   \n",
       "\n",
       "                 from_this_person_to_poi    poi  director_fees  \\\n",
       "LAVORATO JOHN J                      411  False       106164.5   \n",
       "LAY KENNETH L                         16   True       106164.5   \n",
       "\n",
       "                 deferred_income long_term_incentive  from_poi_to_this_person  \\\n",
       "LAVORATO JOHN J          -151927             2035380                      528   \n",
       "LAY KENNETH L            -300000             3600000                      123   \n",
       "\n",
       "                 fraction_from_poi  fraction_to_poi  fraction_emails_with_poi  \n",
       "LAVORATO JOHN J           0.053637         0.041751                  0.095388  \n",
       "LAY KENNETH L             0.028545         0.003713                  0.032258  \n",
       "\n",
       "[2 rows x 23 columns]"
      ]
     },
     "execution_count": 21,
     "metadata": {},
     "output_type": "execute_result"
    }
   ],
   "source": [
    "print \"bonus outliners\"\n",
    "df2.sort(['bonus'], ascending=[0]).head(2)"
   ]
  },
  {
   "cell_type": "markdown",
   "metadata": {},
   "source": [
    "Ken Lay and John Lavorato both received bonuses of >$7 million.  \n",
    "I keep these outliers in dataset, because these extreme values may actually affect the POI determinateion.\n",
    "Finally, let's compare POI vs. non-POI in the selected features:"
   ]
  },
  {
   "cell_type": "code",
   "execution_count": 22,
   "metadata": {
    "collapsed": false
   },
   "outputs": [
    {
     "data": {
      "image/png": "[encoded data removed]",
      "text/plain": [
       "<matplotlib.figure.Figure at 0x109d99d90>"
      ]
     },
     "metadata": {},
     "output_type": "display_data"
    },
    {
     "data": {
      "image/png": "[encoded data removed]",
      "text/plain": [
       "<matplotlib.figure.Figure at 0x109d80910>"
      ]
     },
     "metadata": {},
     "output_type": "display_data"
    },
    {
     "data": {
      "image/png": "[encoded data removed]",
      "text/plain": [
       "<matplotlib.figure.Figure at 0x10a075e90>"
      ]
     },
     "metadata": {},
     "output_type": "display_data"
    },
    {
     "data": {
      "image/png": "[encoded data removed]",
      "text/plain": [
       "<matplotlib.figure.Figure at 0x109ef0910>"
      ]
     },
     "metadata": {},
     "output_type": "display_data"
    },
    {
     "data": {
      "image/png": "[encoded data removed]",
      "text/plain": [
       "<matplotlib.figure.Figure at 0x10a3cca10>"
      ]
     },
     "metadata": {},
     "output_type": "display_data"
    }
   ],
   "source": [
    "cols = ['salary', 'bonus', 'shared_receipt_with_poi', 'fraction_from_poi', 'fraction_to_poi']\n",
    "\n",
    "for each in cols:\n",
    "    g = sns.FacetGrid(df2, col='poi', margin_titles=True, size=5)\n",
    "    g.map(plt.hist, each, color='steelblue', lw=0)"
   ]
  },
  {
   "cell_type": "markdown",
   "metadata": {},
   "source": [
    "###3. Feature Processing and Selection"
   ]
  },
  {
   "cell_type": "markdown",
   "metadata": {},
   "source": [
    "Let's evaluate the score of SelectKBest for E + F features"
   ]
  },
  {
   "cell_type": "code",
   "execution_count": 23,
   "metadata": {
    "collapsed": false
   },
   "outputs": [
    {
     "name": "stdout",
     "output_type": "stream",
     "text": [
      "number of features :  22\n"
     ]
    }
   ],
   "source": [
    "#features_list\n",
    "#print df2.columns.values\n",
    "features_list = ['poi', 'salary', 'to_messages', 'deferral_payments', 'total_payments',\n",
    " 'exercised_stock_options', 'bonus', 'restricted_stock',\n",
    " 'shared_receipt_with_poi', 'restricted_stock_deferred', 'total_stock_value',\n",
    " 'expenses', 'loan_advances', 'from_messages', 'other',\n",
    " 'from_this_person_to_poi', 'director_fees', 'deferred_income',\n",
    " 'long_term_incentive', 'from_poi_to_this_person', 'fraction_from_poi',\n",
    " 'fraction_to_poi' ,'fraction_emails_with_poi']\n",
    "\n",
    "print \"number of features : \", len(features_list)-1"
   ]
  },
  {
   "cell_type": "markdown",
   "metadata": {},
   "source": [
    "#### Feature Selection by SelectKBest\n",
    "\n",
    "See how the feature score ranking using SelectKBest with Anova F-value \n",
    "scoring for classification."
   ]
  },
  {
   "cell_type": "code",
   "execution_count": 24,
   "metadata": {
    "collapsed": false,
    "scrolled": true
   },
   "outputs": [
    {
     "name": "stdout",
     "output_type": "stream",
     "text": [
      "{'to_messages': 0.86637579918464214, 'deferral_payments': 0.27000027001302068, 'expenses': 1.0095962174763033, 'deferred_income': 10.254184751768902, 'from_poi_to_this_person': 4.2258183235864273, 'fraction_from_poi': 2.0204651692104503, 'restricted_stock_deferred': 0.097233382194076429, 'shared_receipt_with_poi': 7.3856912248465987, 'loan_advances': 7.2890745876671152, 'from_messages': 0.1897983100106746, 'other': 3.9075055804564176, 'director_fees': 0.33380009032437746, 'bonus': 15.823410195630085, 'total_stock_value': 23.435004940649563, 'from_this_person_to_poi': 2.1870709688462124, 'long_term_incentive': 8.3907946243280662, 'restricted_stock': 8.3821880364546253, 'salary': 10.881501043309141, 'fraction_emails_with_poi': 3.8198160820351506, 'total_payments': 8.3349911967777608, 'fraction_to_poi': 2.7430276889367069, 'exercised_stock_options': 27.171364098848741}\n"
     ]
    },
    {
     "data": {
      "text/plain": [
       "<matplotlib.text.Text at 0x10a51d2d0>"
      ]
     },
     "execution_count": 24,
     "metadata": {},
     "output_type": "execute_result"
    },
    {
     "data": {
      "image/png": "[encoded data removed]",
      "text/plain": [
       "<matplotlib.figure.Figure at 0x10a705f50>"
      ]
     },
     "metadata": {},
     "output_type": "display_data"
    }
   ],
   "source": [
    "from poi_model import *\n",
    "from itertools import cycle, islice\n",
    "# SelectKBest for finance features\n",
    "best_feature = get_k_best(df2, features_list, 22) # SelectKBest\n",
    "print best_feature\n",
    "a= (0.6823529411764706, 0.7803921568627451, 0.9098039215686274)\n",
    "b= (1.0, 0.596078431372549, 0.5882352941176471)\n",
    "\n",
    "df_best_feature = pd.DataFrame.from_dict(best_feature, orient='index') #convert to pandas dataframe\n",
    "my_colors = list(islice(cycle([a,b,a,a,b,a,b,b,b,b,a,b,a,a,a,a,a,a,a,a,a]), None, len(best_feature)))\n",
    "pt1 = df_best_feature.sort(0).plot(kind='barh', legend=False, color = my_colors, \n",
    "                                   figsize=(9, 4.5), title = 'Score of feature selection based on SelectKBest') # ploting\n",
    "pt1.set_xlim(0,30)\n",
    "plt.xlabel('scores')"
   ]
  },
  {
   "cell_type": "code",
   "execution_count": 25,
   "metadata": {
    "collapsed": false
   },
   "outputs": [
    {
     "name": "stdout",
     "output_type": "stream",
     "text": [
      "Select top 15 features\n",
      "['poi', 'exercised_stock_options', 'total_stock_value', 'bonus', 'salary', 'deferred_income', 'long_term_incentive', 'restricted_stock', 'total_payments', 'shared_receipt_with_poi', 'loan_advances', 'from_poi_to_this_person', 'other', 'fraction_emails_with_poi', 'fraction_to_poi', 'from_this_person_to_poi']\n"
     ]
    }
   ],
   "source": [
    "best_feature = get_k_best(df2, features_list, 15) # SelectKBest\n",
    "df_best_feature = pd.DataFrame.from_dict(best_feature, orient='index') #convert to pandas dataframe\n",
    "selected_feature = ['poi'] + list(df_best_feature.sort(0, ascending=False).index.values)[0:15]\n",
    "print \"Select top \" + str(15) + \" features\"\n",
    "print selected_feature"
   ]
  },
  {
   "cell_type": "code",
   "execution_count": 26,
   "metadata": {
    "collapsed": false
   },
   "outputs": [
    {
     "data": {
      "text/html": [
       "<div style=\"max-height:1000px;max-width:1500px;overflow:auto;\">\n",
       "<table border=\"1\" class=\"dataframe\">\n",
       "  <thead>\n",
       "    <tr style=\"text-align: right;\">\n",
       "      <th></th>\n",
       "      <th>0</th>\n",
       "    </tr>\n",
       "  </thead>\n",
       "  <tbody>\n",
       "    <tr>\n",
       "      <th>salary</th>\n",
       "      <td>10.881501</td>\n",
       "    </tr>\n",
       "    <tr>\n",
       "      <th>fraction_to_poi</th>\n",
       "      <td>2.743028</td>\n",
       "    </tr>\n",
       "    <tr>\n",
       "      <th>fraction_emails_with_poi</th>\n",
       "      <td>3.819816</td>\n",
       "    </tr>\n",
       "    <tr>\n",
       "      <th>total_payments</th>\n",
       "      <td>8.334991</td>\n",
       "    </tr>\n",
       "    <tr>\n",
       "      <th>loan_advances</th>\n",
       "      <td>7.289075</td>\n",
       "    </tr>\n",
       "    <tr>\n",
       "      <th>bonus</th>\n",
       "      <td>15.823410</td>\n",
       "    </tr>\n",
       "    <tr>\n",
       "      <th>total_stock_value</th>\n",
       "      <td>23.435005</td>\n",
       "    </tr>\n",
       "    <tr>\n",
       "      <th>shared_receipt_with_poi</th>\n",
       "      <td>7.385691</td>\n",
       "    </tr>\n",
       "    <tr>\n",
       "      <th>from_poi_to_this_person</th>\n",
       "      <td>4.225818</td>\n",
       "    </tr>\n",
       "    <tr>\n",
       "      <th>exercised_stock_options</th>\n",
       "      <td>27.171364</td>\n",
       "    </tr>\n",
       "    <tr>\n",
       "      <th>other</th>\n",
       "      <td>3.907506</td>\n",
       "    </tr>\n",
       "    <tr>\n",
       "      <th>from_this_person_to_poi</th>\n",
       "      <td>2.187071</td>\n",
       "    </tr>\n",
       "    <tr>\n",
       "      <th>deferred_income</th>\n",
       "      <td>10.254185</td>\n",
       "    </tr>\n",
       "    <tr>\n",
       "      <th>restricted_stock</th>\n",
       "      <td>8.382188</td>\n",
       "    </tr>\n",
       "    <tr>\n",
       "      <th>long_term_incentive</th>\n",
       "      <td>8.390795</td>\n",
       "    </tr>\n",
       "  </tbody>\n",
       "</table>\n",
       "</div>"
      ],
      "text/plain": [
       "                                  0\n",
       "salary                    10.881501\n",
       "fraction_to_poi            2.743028\n",
       "fraction_emails_with_poi   3.819816\n",
       "total_payments             8.334991\n",
       "loan_advances              7.289075\n",
       "bonus                     15.823410\n",
       "total_stock_value         23.435005\n",
       "shared_receipt_with_poi    7.385691\n",
       "from_poi_to_this_person    4.225818\n",
       "exercised_stock_options   27.171364\n",
       "other                      3.907506\n",
       "from_this_person_to_poi    2.187071\n",
       "deferred_income           10.254185\n",
       "restricted_stock           8.382188\n",
       "long_term_incentive        8.390795"
      ]
     },
     "execution_count": 26,
     "metadata": {},
     "output_type": "execute_result"
    }
   ],
   "source": [
    "df_best_feature"
   ]
  },
  {
   "cell_type": "code",
   "execution_count": 27,
   "metadata": {
    "collapsed": false
   },
   "outputs": [
    {
     "name": "stdout",
     "output_type": "stream",
     "text": [
      "Select top 5 features\n",
      "['poi', 'exercised_stock_options', 'total_stock_value', 'bonus', 'salary', 'deferred_income']\n"
     ]
    }
   ],
   "source": [
    "# select top X features from SelectKBest\n",
    "#print df_best_feature.sort(0, ascending=False)\n",
    "a=5\n",
    "print \"Select top \" + str(a) + \" features\"\n",
    "print ['poi'] + list(df_best_feature.sort(0, ascending=False).index.values)[0:a]"
   ]
  },
  {
   "cell_type": "markdown",
   "metadata": {},
   "source": [
    "Next, I want to include SelectKBest and PCA to the pipline, and use this pipline as an input of Decision Tree Classifier. Then I can do the feature selections based on the return accuracy score."
   ]
  },
  {
   "cell_type": "code",
   "execution_count": 28,
   "metadata": {
    "collapsed": false
   },
   "outputs": [],
   "source": [
    "# load all features to get scaled features, and labels\n",
    "features, labels, features_df_scaled, labels_df = \\\n",
    "prep_features(df2, features_list)"
   ]
  },
  {
   "cell_type": "markdown",
   "metadata": {},
   "source": [
    "summary of data structures for selected features using prep_features function:\n",
    "\n",
    "| data       | pandas dataframe       | dictionary|\n",
    "| ------------- |:-------------:| :-------------:| \n",
    "|dataset|     df3| data_dict_new |\n",
    "|label |     labels_df| labels |\n",
    "|feature |     features_df| features |\n",
    "|scaled feature |     features_df_scaled| features |\n",
    "\n",
    "\n",
    "\n",
    "\n",
    "\n",
    "\n",
    "\n"
   ]
  },
  {
   "cell_type": "code",
   "execution_count": 29,
   "metadata": {
    "collapsed": false
   },
   "outputs": [],
   "source": [
    "# set up the StratifiedShuffleSplit here for classifier fine tune\n",
    "\n",
    "from sklearn.cross_validation import StratifiedShuffleSplit\n",
    "from sklearn.cross_validation import StratifiedKFold\n",
    "cv = StratifiedShuffleSplit(labels_df, n_iter=100, test_size=0.1, random_state = 42)\n",
    "cv3 = StratifiedKFold(labels_df, n_folds=3, indices=None, shuffle=False, random_state=42)"
   ]
  },
  {
   "cell_type": "code",
   "execution_count": 31,
   "metadata": {
    "collapsed": false
   },
   "outputs": [],
   "source": [
    "def clf_tree_SelectKBest():\n",
    "    \"\"\"\n",
    "    Decision Tree + SelectKBest\n",
    "    - return: pipline (PCA, classifier), parameters\n",
    "    \"\"\"\n",
    "    from sklearn.tree import DecisionTreeClassifier\n",
    "    from sklearn.feature_selection import SelectKBest, f_classif\n",
    "\n",
    "    pipeline = Pipeline([      ('sel', SelectKBest(score_func=f_classif)),                        \n",
    "                               ('pca', PCA()),\n",
    "                               ('clf', DecisionTreeClassifier())\n",
    "                               ])\n",
    "\n",
    "    params = {  'sel__k': [5, 7, 9, 11],\n",
    "                'pca__n_components': [1,2,3,4,5,'mle'],\n",
    "                \"clf__min_samples_split\": np.logspace(0, 1.5, 12),#.astype('uint8'),\n",
    "                \"clf__criterion\": ('gini', 'entropy'),\n",
    "                \"clf__max_depth\": [None, 1,2,3], \n",
    "                \"clf__min_samples_leaf\" : [1,2],\n",
    "                \"clf__random_state\" : [42]\n",
    "                }\n",
    "       \n",
    "    return pipeline, params"
   ]
  },
  {
   "cell_type": "code",
   "execution_count": 32,
   "metadata": {
    "collapsed": false
   },
   "outputs": [
    {
     "data": {
      "text/plain": [
       "GridSearchCV(cv=sklearn.cross_validation.StratifiedKFold(labels=[False False ...,  True False], n_folds=3, shuffle=False, random_state=42),\n",
       "       error_score='raise',\n",
       "       estimator=Pipeline(steps=[('sel', SelectKBest(k=10, score_func=<function f_classif at 0x10966eed8>)), ('pca', PCA(copy=True, n_components=None, whiten=False)), ('clf', DecisionTreeClassifier(class_weight=None, criterion='gini', max_depth=None,\n",
       "            max_features=None, max_leaf_nodes=None, min_samples_leaf=1,\n",
       "            min_samples_split=2, min_weight_fraction_leaf=0.0,\n",
       "            random_state=None, splitter='best'))]),\n",
       "       fit_params={}, iid=True, loss_func=None, n_jobs=1,\n",
       "       param_grid={'sel__k': [5, 7, 9, 11], 'pca__n_components': [1, 2, 3, 4, 5, 'mle'], 'clf__max_depth': [None, 1, 2, 3], 'clf__min_samples_leaf': [1, 2], 'clf__random_state': [42], 'clf__criterion': ('gini', 'entropy'), 'clf__min_samples_split': array([  1.     ,   1.36887,   1.87382,   2.56502,   3.51119,   4.80638,\n",
       "         6.57933,   9.00628,  12.32847,  16.87612,  23.1013 ,  31.62278])},\n",
       "       pre_dispatch='2*n_jobs', refit=True, score_func=None,\n",
       "       scoring='recall', verbose=0)"
      ]
     },
     "execution_count": 32,
     "metadata": {},
     "output_type": "execute_result"
    }
   ],
   "source": [
    "# load all features to get scaled features, and labels\n",
    "features, labels, features_df_scaled, labels_df = \\\n",
    "prep_features(df2, features_list)  \n",
    "\n",
    "pipeline, params = clf_tree_SelectKBest()\n",
    "\n",
    "GridSearch = GridSearchCV(pipeline, param_grid=params, n_jobs = 1, cv=cv3, scoring='recall', verbose=0)\n",
    "GridSearch.fit(features_df_scaled, labels_df)"
   ]
  },
  {
   "cell_type": "code",
   "execution_count": 28,
   "metadata": {
    "collapsed": false
   },
   "outputs": [
    {
     "name": "stdout",
     "output_type": "stream",
     "text": [
      "#####best_estimator for Decision Tree and SelectKBest#####\n",
      "------------------------------------------------------------------------\n",
      "Pipeline(steps=[('sel', SelectKBest(k=11, score_func=<function f_classif at 0x10e0e8230>)), ('pca', PCA(copy=True, n_components=1, whiten=False)), ('clf', DecisionTreeClassifier(class_weight=None, criterion='gini', max_depth=None,\n",
      "            max_features=None, max_leaf_nodes=None, min_samples_leaf=1,\n",
      "            min_samples_split=1.0, min_weight_fraction_leaf=0.0,\n",
      "            random_state=42, splitter='best'))])\n",
      "Cross-validated recall score =  0.5\n",
      "------------------------------------------------------------------------\n",
      "Best Parameters =  {'sel__k': 11, 'pca__n_components': 1, 'clf__max_depth': None, 'clf__min_samples_leaf': 1, 'clf__random_state': 42, 'clf__criterion': 'gini', 'clf__min_samples_split': 1.0}\n",
      "------------------------------------------------------------------------\n",
      "numbers of selected features =  10\n",
      "------------------------------------------------------------------------\n",
      "selected features =  ['poi', 'deferral_payments', 'total_payments', 'exercised_stock_options', 'bonus', 'restricted_stock', 'restricted_stock_deferred', 'expenses', 'director_fees', 'deferred_income', 'long_term_incentive']\n"
     ]
    }
   ],
   "source": [
    "print \"#####best_estimator for Decision Tree and SelectKBest#####\"\n",
    "\n",
    "clf_best = GridSearch.best_estimator_\n",
    "print \"------------------------------------------------------------------------\"\n",
    "print clf_best\n",
    "print \"Cross-validated recall score = \",GridSearch.best_score_\n",
    "print \"------------------------------------------------------------------------\"\n",
    "print \"Best Parameters = \", GridSearch.best_params_\n",
    "\n",
    "index1 = GridSearch.best_estimator_.named_steps['sel'].get_support()\n",
    "selected_features = [x for (x, boolean) in zip(features_list, index1) if boolean]\n",
    "n_pca_components = GridSearch.best_estimator_.named_steps['pca'].n_components_\n",
    "print \"------------------------------------------------------------------------\"\n",
    "print \"numbers of selected features = \",len(selected_features)-1\n",
    "print \"------------------------------------------------------------------------\"\n",
    "print \"selected features = \", selected_features"
   ]
  },
  {
   "cell_type": "markdown",
   "metadata": {
    "collapsed": true
   },
   "source": [
    "Feed features to Decision Tree classifier with the optimized parameters and determine the feature importances"
   ]
  },
  {
   "cell_type": "code",
   "execution_count": 33,
   "metadata": {
    "collapsed": false
   },
   "outputs": [
    {
     "data": {
      "text/plain": [
       "<matplotlib.text.Text at 0x10a047810>"
      ]
     },
     "execution_count": 33,
     "metadata": {},
     "output_type": "execute_result"
    },
    {
     "data": {
      "image/png": "[encoded data removed]",
      "text/plain": [
       "<matplotlib.figure.Figure at 0x10a558b90>"
      ]
     },
     "metadata": {},
     "output_type": "display_data"
    }
   ],
   "source": [
    "# top 15 from SelectKBest\n",
    "features_list = ['poi', 'exercised_stock_options', 'total_stock_value', 'bonus', 'salary', \n",
    "'deferred_income', 'long_term_incentive', 'restricted_stock', 'total_payments', 'shared_receipt_with_poi', \n",
    "                 'loan_advances', 'from_poi_to_this_person', 'other', \n",
    "'fraction_emails_with_poi', 'fraction_to_poi', 'from_this_person_to_poi']\n",
    "\n",
    "features, labels, features_df_scaled, labels_df = \\\n",
    "prep_features(df2, features_list)\n",
    "\n",
    "from sklearn import cross_validation\n",
    "features_train, features_test, labels_train, labels_test = \\\n",
    "cross_validation.train_test_split(features, labels, test_size=0.1, random_state=42)\n",
    "\n",
    "clf = DecisionTreeClassifier(class_weight=None, criterion='gini', max_depth=None,\n",
    "            max_features=None, max_leaf_nodes=None, min_samples_leaf=1,\n",
    "            min_samples_split=1.0, min_weight_fraction_leaf=0.0,\n",
    "            random_state=42, splitter='best')\n",
    "\n",
    "clf.fit(features_train, labels_train)\n",
    "importance = clf.feature_importances_\n",
    "\n",
    "unsorted_pairs = zip(features_list[1:], importance)\n",
    "sorted_pairs = list(reversed(sorted(unsorted_pairs, key=lambda x: x[1])))\n",
    "dic_importance = dict(sorted_pairs[:len(importance)])\n",
    "\n",
    "df_feature_importance = pd.DataFrame.from_dict(dic_importance, orient='index') #convert to pandas dataframe\n",
    "#my_colors = list(islice(cycle([a,b,a,a,b,a,b,b,b,b,a,b,a,a,a,a,a,a,a,a,a]), None, len(best_feature)))\n",
    "\n",
    "a = (0.6823529411764706, 0.7803921568627451, 0.9098039215686274)\n",
    "pt1 = df_feature_importance.sort(0).plot(kind='barh', legend=False, color = a, \n",
    "                                   figsize=(9, 4.5), title = 'feature importance based on DecisionTreeClassifier') # ploting\n",
    "#pt1.set_xlim(0,30)\n",
    "plt.xlabel('importance')"
   ]
  },
  {
   "cell_type": "markdown",
   "metadata": {},
   "source": [
    "It returns 10 features with the recall score of 0.5."
   ]
  },
  {
   "cell_type": "code",
   "execution_count": 34,
   "metadata": {
    "collapsed": true
   },
   "outputs": [],
   "source": [
    "selected_features = ['poi', 'exercised_stock_options', 'total_stock_value', 'bonus', 'salary', \n",
    "                     'deferred_income']#, 'long_term_incentive', 'restricted_stock']"
   ]
  },
  {
   "cell_type": "markdown",
   "metadata": {},
   "source": [
    "Chose top 5 features"
   ]
  },
  {
   "cell_type": "markdown",
   "metadata": {},
   "source": [
    "####Algorithm Selection and Tuning\n",
    "Next, I evaluate the performance of select algorithm with the top-5 features."
   ]
  },
  {
   "cell_type": "markdown",
   "metadata": {},
   "source": [
    "Test the following algorithms with default parameters"
   ]
  },
  {
   "cell_type": "code",
   "execution_count": 97,
   "metadata": {
    "collapsed": false
   },
   "outputs": [],
   "source": [
    "\n",
    "def evaluate_model(model, features, labels, score , cv):\n",
    "    '''\n",
    "    fucntion to evaluate the score of model\n",
    "    return: score(can be accuracy, precision, or recall)\n",
    "    '''\n",
    "    from sklearn.cross_validation import StratifiedKFold, cross_val_score\n",
    "    return np.mean(cross_val_score(\n",
    "        model, \n",
    "        features, \n",
    "        labels, \n",
    "        scoring= score,\n",
    "        cv=cv,\n",
    "        n_jobs=1))"
   ]
  },
  {
   "cell_type": "code",
   "execution_count": 334,
   "metadata": {
    "collapsed": false
   },
   "outputs": [
    {
     "name": "stdout",
     "output_type": "stream",
     "text": [
      "---------------------------------------------------\n",
      "classifier: DecisionTreeClassifier(class_weight=None, criterion='gini', max_depth=None,\n",
      "            max_features=None, max_leaf_nodes=None, min_samples_leaf=1,\n",
      "            min_samples_split=2, min_weight_fraction_leaf=0.0,\n",
      "            random_state=None, splitter='best'),  score = 0.784666666667, precision = 0.212428571429, recall = 0.176333333333\n",
      "---------------------------------------------------\n",
      "classifier: LinearSVC(C=1.0, class_weight=None, dual=True, fit_intercept=True,\n",
      "     intercept_scaling=1, loss='squared_hinge', max_iter=1000,\n",
      "     multi_class='ovr', penalty='l2', random_state=None, tol=0.0001,\n",
      "     verbose=0),  score = 0.872666666667, precision = 0.343333333333, recall = 0.343333333333\n",
      "---------------------------------------------------\n",
      "classifier: AdaBoostClassifier(algorithm='SAMME.R', base_estimator=None,\n",
      "          learning_rate=1.0, n_estimators=50, random_state=None),  score = 0.844, precision = 0.354833333333, recall = 0.354833333333\n",
      "---------------------------------------------------\n",
      "classifier: RandomForestClassifier(bootstrap=True, class_weight=None, criterion='gini',\n",
      "            max_depth=None, max_features='auto', max_leaf_nodes=None,\n",
      "            min_samples_leaf=1, min_samples_split=2,\n",
      "            min_weight_fraction_leaf=0.0, n_estimators=10, n_jobs=1,\n",
      "            oob_score=False, random_state=None, verbose=0,\n",
      "            warm_start=False),  score = 0.857333333333, precision = 0.278333333333, recall = 0.297333333333\n",
      "---------------------------------------------------\n",
      "classifier: KNeighborsClassifier(algorithm='auto', leaf_size=30, metric='minkowski',\n",
      "           metric_params=None, n_neighbors=5, p=2, weights='uniform'),  score = 0.868, precision = 0.155, recall = 0.155\n",
      "---------------------------------------------------\n",
      "classifier: LogisticRegression(C=1.0, class_weight=None, dual=False, fit_intercept=True,\n",
      "          intercept_scaling=1, max_iter=100, multi_class='ovr',\n",
      "          penalty='l2', random_state=None, solver='liblinear', tol=0.0001,\n",
      "          verbose=0),  score = 0.874666666667, precision = 0.21, recall = 0.21\n"
     ]
    }
   ],
   "source": [
    "# prepare the data in dictionary\n",
    "\n",
    "from poi_dataprocess import *\n",
    "\n",
    "features, labels, features_df_scaled, labels_df = \\\n",
    "prep_features1(df2, selected_features, True)\n",
    "\n",
    "cv = StratifiedShuffleSplit(labels_df, n_iter=100, test_size=0.1, random_state = 42)\n",
    "# preliminary test for selected classifiers\n",
    "\n",
    "models = [DecisionTreeClassifier(), LinearSVC(), AdaBoostClassifier(), RandomForestClassifier(), \n",
    "           KNeighborsClassifier(), LogisticRegression()]\n",
    "\n",
    "for clf in models:\n",
    "    \n",
    "    accuracy = evaluate_model(clf, features_df_scaled, labels_df, 'accuracy' , cv)\n",
    "    precision = evaluate_model(clf, features_df_scaled, labels_df, 'precision' , cv)\n",
    "    recall = evaluate_model(clf, features_df_scaled, labels_df, 'precision' , cv)\n",
    "\n",
    "    print \"---------------------------------------------------\"\n",
    "    print \"classifier: {0},  score = {1}, precision = {2}, recall = {3}\".\\\n",
    "    format(clf, accuracy, precision, recall)"
   ]
  },
  {
   "cell_type": "code",
   "execution_count": 120,
   "metadata": {
    "collapsed": false
   },
   "outputs": [
    {
     "data": {
      "image/png": "[encoded data removed]",
      "text/plain": [
       "<matplotlib.figure.Figure at 0x10a1e94d0>"
      ]
     },
     "metadata": {},
     "output_type": "display_data"
    }
   ],
   "source": [
    "import pandas as pd\n",
    "import matplotlib.pyplot as plt\n",
    "import numpy as np\n",
    "\n",
    "df_figure = pd.DataFrame(dict(names=['Logistic Regression','LinearSVC','KNeighbors',\n",
    "                                     'Random Forest', 'Adaboost', 'Decision Tree'],\n",
    "                           accuracy=[0.8747, 0.8727, 0.8680,0.8547,0.8440,0.7800 ], \n",
    "                           precision=[0.2100, 0.3433,0.155,.272,0.3598,0.1955], \n",
    "                           recall = [0.21,0.3433, 0.1550, 0.2961, .3448,.212] \n",
    "                           ) )\n",
    "\n",
    "ind = np.arange(len(df_figure))\n",
    "width = 0.2\n",
    "\n",
    "fig, ax = plt.subplots(figsize=(8,5))\n",
    "\n",
    "ax.barh(ind, df_figure.accuracy, width, color=tableau20[1], label='accuracy')\n",
    "ax.barh(ind + width, df_figure.precision, width, color=tableau20[7], label='precision')\n",
    "ax.barh(ind + width*2, df_figure.recall, width, color=tableau20[5], label='recall')\n",
    "plt.axvline(x=0.3, ymin=0, ymax = 1, linewidth=1, color='red', ls='dashed')\n",
    "\n",
    "ax.set(yticks= ind + 2*width, yticklabels=df_figure.names, \n",
    "       xlim = [0,1], ylim=[5*width - 1, len(df_figure)],\n",
    "      xlabel = \"scores\", title = 'Summary of model performance')\n",
    "\n",
    "plt.legend(bbox_to_anchor=(0.95, 0.9),\n",
    "           bbox_transform=plt.gcf().transFigure)\n",
    "\n",
    "plt.show()"
   ]
  },
  {
   "cell_type": "markdown",
   "metadata": {},
   "source": [
    "LinearSVC and Adaboost are two best models."
   ]
  },
  {
   "cell_type": "markdown",
   "metadata": {},
   "source": [
    "Next, fine tune the parameters in *LinearSVC* and *Adaboost*:"
   ]
  },
  {
   "cell_type": "markdown",
   "metadata": {},
   "source": [
    "In the following, I want to use GridSearch to (1) find the optimal condition for Decision Tree classifier and use this as the estimator for Adaboost (2) find the optimal paramters for LinearSVC\n",
    "\n",
    "**1) Decision Tree no PCA**"
   ]
  },
  {
   "cell_type": "code",
   "execution_count": 269,
   "metadata": {
    "collapsed": true
   },
   "outputs": [],
   "source": [
    "def clf_tree_noPCA():\n",
    "    \"\"\"\n",
    "    Decision Tree\n",
    "    - return: pipline (classifier), parameters\n",
    "    \"\"\"\n",
    "    from sklearn.tree import DecisionTreeClassifier\n",
    "    pipeline = Pipeline([                               \n",
    "                               #('pca', PCA()),\n",
    "                               ('clf', DecisionTreeClassifier())\n",
    "                               ])\n",
    "\n",
    "    params = {  #'pca__n_components': [1, 2, 3, 4, 5, 'mle' ],\n",
    "                \"clf__min_samples_split\": np.logspace(-0.5, 1.2, 15),#np.linspace(1, 15, 15).astype('uint8'),\n",
    "                \"clf__criterion\": ('gini', 'entropy'),\n",
    "                \"clf__splitter\" : ['random', 'best'],\n",
    "                \"clf__max_depth\": [None, 1,2,3,4,5,6], \n",
    "                \"clf__min_samples_leaf\" : [1,2,3,4,5],\n",
    "                \"clf__random_state\" : [42]\n",
    "            }\n",
    "    return pipeline, params"
   ]
  },
  {
   "cell_type": "code",
   "execution_count": 271,
   "metadata": {
    "collapsed": false
   },
   "outputs": [
    {
     "data": {
      "text/plain": [
       "GridSearchCV(cv=StratifiedShuffleSplit(labels=[False False ...,  True False], n_iter=100, test_size=0.1, random_state=42),\n",
       "       error_score='raise',\n",
       "       estimator=Pipeline(steps=[('clf', DecisionTreeClassifier(class_weight=None, criterion='gini', max_depth=None,\n",
       "            max_features=None, max_leaf_nodes=None, min_samples_leaf=1,\n",
       "            min_samples_split=2, min_weight_fraction_leaf=0.0,\n",
       "            random_state=None, splitter='best'))]),\n",
       "       fit_params={}, iid=True, loss_func=None, n_jobs=1,\n",
       "       param_grid={'clf__splitter': ['random', 'best'], 'clf__criterion': ('gini', 'entropy'), 'clf__max_depth': [None, 1, 2, 3, 4, 5, 6], 'clf__min_samples_leaf': [1, 2, 3, 4, 5], 'clf__random_state': [42], 'clf__min_samples_split': array([  0.31623,   0.41824,   0.55317,   0.73162,   0.96764,   1.2798 ,\n",
       "         1.69267,   2.23872,   2.96093,   3.91613,   5.17947,   6.85037,\n",
       "         9.06031,  11.98316,  15.84893])},\n",
       "       pre_dispatch='2*n_jobs', refit=True, score_func=None,\n",
       "       scoring='recall', verbose=0)"
      ]
     },
     "execution_count": 271,
     "metadata": {},
     "output_type": "execute_result"
    }
   ],
   "source": [
    "from poi_dataprocess import *\n",
    "features, labels, features_df_scaled, labels_df = \\\n",
    "prep_features1(df2, selected_features, True)\n",
    "\n",
    "cv = StratifiedShuffleSplit(labels_df, n_iter=100, test_size=0.1, random_state = 42)\n",
    "\n",
    "pipeline, params = clf_tree_noPCA()\n",
    "\n",
    "GridSearch = GridSearchCV(pipeline, param_grid=params, n_jobs = 1, cv=cv , scoring='recall', verbose=0)\n",
    "GridSearch.fit(features_df_scaled, labels_df)"
   ]
  },
  {
   "cell_type": "code",
   "execution_count": 272,
   "metadata": {
    "collapsed": false
   },
   "outputs": [
    {
     "name": "stdout",
     "output_type": "stream",
     "text": [
      "#####best_estimator for Decision Tree no PCA#####\n",
      "Pipeline(steps=[('clf', DecisionTreeClassifier(class_weight=None, criterion='gini', max_depth=None,\n",
      "            max_features=None, max_leaf_nodes=None, min_samples_leaf=1,\n",
      "            min_samples_split=0.31622776601683794,\n",
      "            min_weight_fraction_leaf=0.0, random_state=42,\n",
      "            splitter='random'))])\n",
      "------------------------------------------------------------------------\n",
      "Cross-validated recall =  0.29\n",
      "------------------------------------------------------------------------\n",
      "Best Parameters =  {'clf__splitter': 'random', 'clf__criterion': 'gini', 'clf__max_depth': None, 'clf__min_samples_leaf': 1, 'clf__random_state': 42, 'clf__min_samples_split': 0.31622776601683794}\n"
     ]
    }
   ],
   "source": [
    "print \"#####best_estimator for Decision Tree no PCA#####\"\n",
    "clf_best = GridSearch.best_estimator_\n",
    "print clf_best\n",
    "print \"------------------------------------------------------------------------\"\n",
    "print \"Cross-validated recall = \",GridSearch.best_score_\n",
    "print \"------------------------------------------------------------------------\"\n",
    "print \"Best Parameters = \", GridSearch.best_params_"
   ]
  },
  {
   "cell_type": "code",
   "execution_count": 273,
   "metadata": {
    "collapsed": false
   },
   "outputs": [
    {
     "name": "stdout",
     "output_type": "stream",
     "text": [
      "Accuracy =0.821333333333,  Precision = 0.259833333333, Recall = 0.29\n"
     ]
    }
   ],
   "source": [
    "accuracy = evaluate_model(clf_best, features_df_scaled, labels_df, 'accuracy' , cv)\n",
    "precision = evaluate_model(clf_best, features_df_scaled, labels_df, 'precision' , cv)\n",
    "recall = evaluate_model(clf_best, features_df_scaled, labels_df, 'recall' , cv)\n",
    "print 'Accuracy ={0},  Precision = {1}, Recall = {2}'.format(accuracy, precision, recall)"
   ]
  },
  {
   "cell_type": "code",
   "execution_count": 274,
   "metadata": {
    "collapsed": false
   },
   "outputs": [
    {
     "name": "stdout",
     "output_type": "stream",
     "text": [
      "Pipeline(steps=[('clf', DecisionTreeClassifier(class_weight=None, criterion='gini', max_depth=None,\n",
      "            max_features=None, max_leaf_nodes=None, min_samples_leaf=1,\n",
      "            min_samples_split=0.31622776601683794,\n",
      "            min_weight_fraction_leaf=0.0, random_state=42,\n",
      "            splitter='random'))])\n",
      "\tAccuracy: 0.80573\tPrecision: 0.27196\tRecall: 0.27250\tF1: 0.27223\tF2: 0.27239\n",
      "\tTotal predictions: 15000\tTrue positives:  545\tFalse positives: 1459\tFalse negatives: 1455\tTrue negatives: 11541\n",
      "\n"
     ]
    }
   ],
   "source": [
    "# validate the result using test classifier \n",
    "from tester import*\n",
    "\n",
    "test_classifier(clf_best, data_dict_new, selected_features)"
   ]
  },
  {
   "cell_type": "markdown",
   "metadata": {},
   "source": [
    "**2) Adaboost**"
   ]
  },
  {
   "cell_type": "code",
   "execution_count": 280,
   "metadata": {
    "collapsed": false
   },
   "outputs": [],
   "source": [
    "def clf_adaboost():\n",
    "    '''\n",
    "    AdaBoost\n",
    "    return: pipeline, and optimal parameters\n",
    "    '''\n",
    "    from sklearn.ensemble import AdaBoostClassifier\n",
    "    pipeline = Pipeline([                               \n",
    "                            ('pca', PCA()),\n",
    "                            ('clf', AdaBoostClassifier())\n",
    "                       ])\n",
    "    \n",
    "    params = { \n",
    "        'pca__n_components': [1, 2, 3,4,5, 'mle'],\n",
    "        'clf__base_estimator' : [\n",
    "            DecisionTreeClassifier(criterion='gini', max_depth=None,\n",
    "            min_samples_leaf=1, min_samples_split=0.31622776601683794,\n",
    "            random_state=42, splitter='random')\n",
    "                                ],    # optimial estimator      \n",
    "        \"clf__n_estimators\": [1,2,3,4,5],\n",
    "        \"clf__learning_rate\" :[0.5,1,1.5],#np.logspace(-1, 1, 8),\n",
    "        \"clf__random_state\" : [42]\n",
    "                            \n",
    "            }\n",
    "    \n",
    "    return pipeline, params"
   ]
  },
  {
   "cell_type": "code",
   "execution_count": 281,
   "metadata": {
    "collapsed": false
   },
   "outputs": [
    {
     "data": {
      "text/plain": [
       "GridSearchCV(cv=StratifiedShuffleSplit(labels=[False False ...,  True False], n_iter=100, test_size=0.1, random_state=42),\n",
       "       error_score='raise',\n",
       "       estimator=Pipeline(steps=[('pca', PCA(copy=True, n_components=None, whiten=False)), ('clf', AdaBoostClassifier(algorithm='SAMME.R', base_estimator=None,\n",
       "          learning_rate=1.0, n_estimators=50, random_state=None))]),\n",
       "       fit_params={}, iid=True, loss_func=None, n_jobs=1,\n",
       "       param_grid={'clf__base_estimator': [DecisionTreeClassifier(class_weight=None, criterion='gini', max_depth=None,\n",
       "            max_features=None, max_leaf_nodes=None, min_samples_leaf=1,\n",
       "            min_samples_split=0.316227766017, min_weight_fraction_leaf=0.0,\n",
       "            random_state=42, splitter='random')], 'pca__n_components': [1, 2, 3, 4, 5, 'mle'], 'clf__learning_rate': [0.5, 1, 1.5], 'clf__random_state': [42], 'clf__n_estimators': [1, 2, 3, 4, 5]},\n",
       "       pre_dispatch='2*n_jobs', refit=True, score_func=None,\n",
       "       scoring='precision', verbose=0)"
      ]
     },
     "execution_count": 281,
     "metadata": {},
     "output_type": "execute_result"
    }
   ],
   "source": [
    "from poi_dataprocess import *\n",
    "\n",
    "features, labels, features_df_scaled, labels_df = \\\n",
    "prep_features1(df2, selected_features, False)\n",
    "\n",
    "cv = StratifiedShuffleSplit(labels_df, n_iter=100, test_size=0.1, random_state = 42)\n",
    "\n",
    "pipeline, params = clf_adaboost()\n",
    "\n",
    "GridSearch = GridSearchCV(pipeline, param_grid=params, n_jobs = 1, cv=cv , scoring='precision', verbose=0)\n",
    "GridSearch.fit(features_df_scaled, labels_df)"
   ]
  },
  {
   "cell_type": "code",
   "execution_count": 282,
   "metadata": {
    "collapsed": false
   },
   "outputs": [
    {
     "name": "stdout",
     "output_type": "stream",
     "text": [
      "#####best_estimator for Adaboost#####\n",
      "Pipeline(steps=[('pca', PCA(copy=True, n_components=3, whiten=False)), ('clf', AdaBoostClassifier(algorithm='SAMME.R',\n",
      "          base_estimator=DecisionTreeClassifier(class_weight=None, criterion='gini', max_depth=None,\n",
      "            max_features=None, max_leaf_nodes=None, min_samples_leaf=1,\n",
      "            min_samples_split=0.316227766017, min_weight_fraction_leaf=0.0,\n",
      "            random_state=42, splitter='random'),\n",
      "          learning_rate=0.5, n_estimators=1, random_state=42))])\n",
      "------------------------------------------------------------------------\n",
      "Cross-validated precision =  0.331833333333\n",
      "------------------------------------------------------------------------\n",
      "Best Parameters =  {'clf__base_estimator': DecisionTreeClassifier(class_weight=None, criterion='gini', max_depth=None,\n",
      "            max_features=None, max_leaf_nodes=None, min_samples_leaf=1,\n",
      "            min_samples_split=0.316227766017, min_weight_fraction_leaf=0.0,\n",
      "            random_state=42, splitter='random'), 'pca__n_components': 3, 'clf__learning_rate': 0.5, 'clf__random_state': 42, 'clf__n_estimators': 1}\n"
     ]
    }
   ],
   "source": [
    "print \"#####best_estimator for Adaboost#####\"\n",
    "clf_best_adaboost = GridSearch.best_estimator_\n",
    "print clf_best_adaboost\n",
    "print \"------------------------------------------------------------------------\"\n",
    "print \"Cross-validated precision = \",GridSearch.best_score_\n",
    "print \"------------------------------------------------------------------------\"\n",
    "print \"Best Parameters = \", GridSearch.best_params_"
   ]
  },
  {
   "cell_type": "code",
   "execution_count": 283,
   "metadata": {
    "collapsed": false
   },
   "outputs": [
    {
     "name": "stdout",
     "output_type": "stream",
     "text": [
      "Accuracy =0.822666666667,  Precision = 0.331833333333, Recall = 0.365\n"
     ]
    }
   ],
   "source": [
    "accuracy = evaluate_model(clf_best_adaboost, features_df_scaled, labels_df, 'accuracy' , cv)\n",
    "precision = evaluate_model(clf_best_adaboost, features_df_scaled, labels_df, 'precision' , cv)\n",
    "recall = evaluate_model(clf_best_adaboost, features_df_scaled, labels_df, 'recall' , cv)\n",
    "print 'Accuracy ={0},  Precision = {1}, Recall = {2}'.format(accuracy, precision, recall)"
   ]
  },
  {
   "cell_type": "code",
   "execution_count": 284,
   "metadata": {
    "collapsed": false
   },
   "outputs": [
    {
     "name": "stdout",
     "output_type": "stream",
     "text": [
      "Pipeline(steps=[('pca', PCA(copy=True, n_components=3, whiten=False)), ('clf', AdaBoostClassifier(algorithm='SAMME.R',\n",
      "          base_estimator=DecisionTreeClassifier(class_weight=None, criterion='gini', max_depth=None,\n",
      "            max_features=None, max_leaf_nodes=None, min_samples_leaf=1,\n",
      "            min_samples_split=0.316227766017, min_weight_fraction_leaf=0.0,\n",
      "            random_state=42, splitter='random'),\n",
      "          learning_rate=0.5, n_estimators=1, random_state=42))])\n",
      "\tAccuracy: 0.81420\tPrecision: 0.31217\tRecall: 0.32700\tF1: 0.31941\tF2: 0.32392\n",
      "\tTotal predictions: 15000\tTrue positives:  654\tFalse positives: 1441\tFalse negatives: 1346\tTrue negatives: 11559\n",
      "\n"
     ]
    }
   ],
   "source": [
    "# verfication using test_classifer() in test.py\n",
    "from tester import*\n",
    "\n",
    "test_classifier(clf_best_adaboost, data_dict_new, selected_features)"
   ]
  },
  {
   "cell_type": "markdown",
   "metadata": {
    "collapsed": false
   },
   "source": [
    "3) LinearSVC"
   ]
  },
  {
   "cell_type": "code",
   "execution_count": 286,
   "metadata": {
    "collapsed": false
   },
   "outputs": [],
   "source": [
    "def clf_LinearSVC():\n",
    "    '''\n",
    "    Logistic Regression \n",
    "    '''\n",
    "    from sklearn.linear_model import LogisticRegression\n",
    "    \n",
    "    pipeline = Pipeline([                               \n",
    "                               ('pca', PCA()),\n",
    "                               ('clf', LogisticRegression())\n",
    "                               ])\n",
    "    \n",
    "    params = {\n",
    "        'pca__n_components': [1, 2, 3, 4, 5,'mle'],\n",
    "        'clf__C': np.logspace(-3, 1, 10),\n",
    "        'clf__tol': np.logspace(-64, 2, 6)\n",
    "       \n",
    "            }\n",
    "    return pipeline, params\n"
   ]
  },
  {
   "cell_type": "code",
   "execution_count": 290,
   "metadata": {
    "collapsed": false
   },
   "outputs": [
    {
     "data": {
      "text/plain": [
       "GridSearchCV(cv=StratifiedShuffleSplit(labels=[False False ...,  True False], n_iter=100, test_size=0.1, random_state=42),\n",
       "       error_score='raise',\n",
       "       estimator=Pipeline(steps=[('pca', PCA(copy=True, n_components=None, whiten=False)), ('clf', LogisticRegression(C=1.0, class_weight=None, dual=False, fit_intercept=True,\n",
       "          intercept_scaling=1, max_iter=100, multi_class='ovr',\n",
       "          penalty='l2', random_state=None, solver='liblinear', tol=0.0001,\n",
       "          verbose=0))]),\n",
       "       fit_params={}, iid=True, loss_func=None, n_jobs=1,\n",
       "       param_grid={'clf__tol': array([  1.00000e-64,   1.58489e-51,   2.51189e-38,   3.98107e-25,\n",
       "         6.30957e-12,   1.00000e+02]), 'pca__n_components': [1, 2, 3, 4, 5, 'mle'], 'clf__C': array([  1.00000e-03,   2.78256e-03,   7.74264e-03,   2.15443e-02,\n",
       "         5.99484e-02,   1.66810e-01,   4.64159e-01,   1.29155e+00,\n",
       "         3.59381e+00,   1.00000e+01])},\n",
       "       pre_dispatch='2*n_jobs', refit=True, score_func=None,\n",
       "       scoring='recall', verbose=0)"
      ]
     },
     "execution_count": 290,
     "metadata": {},
     "output_type": "execute_result"
    }
   ],
   "source": [
    "from poi_dataprocess import *\n",
    "\n",
    "features, labels, features_df_scaled, labels_df = \\\n",
    "prep_features1(df2, selected_features, True)\n",
    "\n",
    "cv = StratifiedShuffleSplit(labels_df, n_iter=100, test_size=0.1, random_state = 42)\n",
    "\n",
    "pipeline, params = clf_LinearSVC()\n",
    "\n",
    "GridSearch = GridSearchCV(pipeline, param_grid=params, n_jobs = 1, cv=cv , scoring='recall', verbose=0)\n",
    "GridSearch.fit(features_df_scaled, labels_df)"
   ]
  },
  {
   "cell_type": "code",
   "execution_count": 291,
   "metadata": {
    "collapsed": false
   },
   "outputs": [
    {
     "name": "stdout",
     "output_type": "stream",
     "text": [
      "#####best_estimator for Logistic Regreesion #####\n",
      "Pipeline(steps=[('pca', PCA(copy=True, n_components=3, whiten=False)), ('clf', LogisticRegression(C=10.0, class_weight=None, dual=False, fit_intercept=True,\n",
      "          intercept_scaling=1, max_iter=100, multi_class='ovr',\n",
      "          penalty='l2', random_state=None, solver='liblinear',\n",
      "          tol=9.9999999999999997e-65, verbose=0))])\n",
      "------------------------------------------------------------------------\n",
      "Cross-validated recall =  0.22\n",
      "------------------------------------------------------------------------\n",
      "Best Parameters =  {'clf__tol': 9.9999999999999997e-65, 'pca__n_components': 3, 'clf__C': 10.0}\n"
     ]
    }
   ],
   "source": [
    "print \"#####best_estimator for Logistic Regreesion #####\"\n",
    "clf_best_LinearSVC = GridSearch.best_estimator_\n",
    "print clf_best_LinearSVC\n",
    "print \"------------------------------------------------------------------------\"\n",
    "print \"Cross-validated recall = \",GridSearch.best_score_\n",
    "print \"------------------------------------------------------------------------\"\n",
    "print \"Best Parameters = \", GridSearch.best_params_"
   ]
  },
  {
   "cell_type": "code",
   "execution_count": 292,
   "metadata": {
    "collapsed": false
   },
   "outputs": [
    {
     "name": "stdout",
     "output_type": "stream",
     "text": [
      "Accuracy =0.887333333333,  Precision = 0.378333333333, Recall = 0.22\n"
     ]
    }
   ],
   "source": [
    "accuracy = evaluate_model(clf_best_LinearSVC, features_df_scaled, labels_df, 'accuracy' , cv)\n",
    "precision = evaluate_model(clf_best_LinearSVC, features_df_scaled, labels_df, 'precision' , cv)\n",
    "recall = evaluate_model(clf_best_LinearSVC, features_df_scaled, labels_df, 'recall' , cv)\n",
    "print 'Accuracy ={0},  Precision = {1}, Recall = {2}'.format(accuracy, precision, recall)"
   ]
  },
  {
   "cell_type": "code",
   "execution_count": 293,
   "metadata": {
    "collapsed": false,
    "scrolled": true
   },
   "outputs": [
    {
     "name": "stdout",
     "output_type": "stream",
     "text": [
      "Pipeline(steps=[('pca', PCA(copy=True, n_components=3, whiten=False)), ('clf', LogisticRegression(C=10.0, class_weight=None, dual=False, fit_intercept=True,\n",
      "          intercept_scaling=1, max_iter=100, multi_class='ovr',\n",
      "          penalty='l2', random_state=None, solver='liblinear',\n",
      "          tol=9.9999999999999997e-65, verbose=0))])\n",
      "\tAccuracy: 0.88520\tPrecision: 0.72063\tRecall: 0.22700\tF1: 0.34525\tF2: 0.26304\n",
      "\tTotal predictions: 15000\tTrue positives:  454\tFalse positives:  176\tFalse negatives: 1546\tTrue negatives: 12824\n",
      "\n"
     ]
    }
   ],
   "source": [
    "from tester import*\n",
    "\n",
    "test_classifier(clf_best_LinearSVC, data_dict_new, selected_features)"
   ]
  },
  {
   "cell_type": "markdown",
   "metadata": {},
   "source": [
    "The optimized model is **addoboost** with the best estimator of Decision Tree. The optimized classifier is below:"
   ]
  },
  {
   "cell_type": "code",
   "execution_count": 294,
   "metadata": {
    "collapsed": false
   },
   "outputs": [
    {
     "name": "stdout",
     "output_type": "stream",
     "text": [
      "########optimized parameters in Addaboost############\n",
      "Pipeline(steps=[('pca', PCA(copy=True, n_components=3, whiten=False)), ('clf', AdaBoostClassifier(algorithm='SAMME.R',\n",
      "          base_estimator=DecisionTreeClassifier(class_weight=None, criterion='gini', max_depth=None,\n",
      "            max_features=None, max_leaf_nodes=None, min_samples_leaf=1,\n",
      "            min_samples_split=0.316227766017, min_weight_fraction_leaf=0.0,\n",
      "            random_state=42, splitter='random'),\n",
      "          learning_rate=0.5, n_estimators=1, random_state=42))])\n"
     ]
    }
   ],
   "source": [
    "print \"########optimized parameters in Addaboost############\"\n",
    "print clf_best_adaboost"
   ]
  },
  {
   "cell_type": "markdown",
   "metadata": {},
   "source": [
    "#### Test the performance of final model before and after adding new features:\n"
   ]
  },
  {
   "cell_type": "code",
   "execution_count": 302,
   "metadata": {
    "collapsed": false
   },
   "outputs": [
    {
     "name": "stdout",
     "output_type": "stream",
     "text": [
      "['poi', 'exercised_stock_options', 'total_stock_value', 'bonus', 'salary', 'deferred_income', 'fraction_from_poi']\n",
      "Accuracy =0.822666666667,  Precision = 0.253833333333, Recall = 0.3\n"
     ]
    }
   ],
   "source": [
    "selected_features = ['poi', 'exercised_stock_options', 'total_stock_value', 'bonus', 'salary', \n",
    "                     'deferred_income']\n",
    "new_features = ['fraction_from_poi', 'fraction_to_poi', 'fraction_emails_with_poi']\n",
    "\n",
    "new_features1 = selected_features  +  [new_features[0]]\n",
    "print new_features1\n",
    "\n",
    "from poi_dataprocess import *\n",
    "features, labels, features_df_scaled, labels_df = \\\n",
    "prep_features1(df2, new_features1, True)\n",
    "\n",
    "cv = StratifiedShuffleSplit(labels_df, n_iter=100, test_size=0.1, random_state = 42)\n",
    "\n",
    "accuracy = evaluate_model(clf_best_adaboost, features_df_scaled, labels_df, 'accuracy' , cv)\n",
    "precision = evaluate_model(clf_best_adaboost, features_df_scaled, labels_df, 'precision' , cv)\n",
    "recall = evaluate_model(clf_best_adaboost, features_df_scaled, labels_df, 'recall' , cv)\n",
    "print 'Accuracy ={0},  Precision = {1}, Recall = {2}'.format(accuracy, precision, recall)"
   ]
  },
  {
   "cell_type": "code",
   "execution_count": 303,
   "metadata": {
    "collapsed": false
   },
   "outputs": [
    {
     "name": "stdout",
     "output_type": "stream",
     "text": [
      "['poi', 'exercised_stock_options', 'total_stock_value', 'bonus', 'salary', 'deferred_income', 'fraction_to_poi']\n",
      "Accuracy =0.798666666667,  Precision = 0.233166666667, Recall = 0.265\n"
     ]
    }
   ],
   "source": [
    "new_features2 = selected_features  +  [new_features[1]]\n",
    "print new_features2\n",
    "\n",
    "from poi_dataprocess import *\n",
    "features, labels, features_df_scaled, labels_df = \\\n",
    "prep_features1(df2, new_features2, True)\n",
    "\n",
    "cv = StratifiedShuffleSplit(labels_df, n_iter=100, test_size=0.1, random_state = 42)\n",
    "\n",
    "accuracy = evaluate_model(clf_best_adaboost, features_df_scaled, labels_df, 'accuracy' , cv)\n",
    "precision = evaluate_model(clf_best_adaboost, features_df_scaled, labels_df, 'precision' , cv)\n",
    "recall = evaluate_model(clf_best_adaboost, features_df_scaled, labels_df, 'recall' , cv)\n",
    "print 'Accuracy ={0},  Precision = {1}, Recall = {2}'.format(accuracy, precision, recall)"
   ]
  },
  {
   "cell_type": "code",
   "execution_count": 304,
   "metadata": {
    "collapsed": false
   },
   "outputs": [
    {
     "name": "stdout",
     "output_type": "stream",
     "text": [
      "['poi', 'exercised_stock_options', 'total_stock_value', 'bonus', 'salary', 'deferred_income', 'fraction_emails_with_poi']\n",
      "Accuracy =0.819333333333,  Precision = 0.2815, Recall = 0.335\n"
     ]
    }
   ],
   "source": [
    "new_features3 = selected_features  +  [new_features[2]]\n",
    "print new_features3\n",
    "\n",
    "from poi_dataprocess import *\n",
    "features, labels, features_df_scaled, labels_df = \\\n",
    "prep_features1(df2, new_features3, True)\n",
    "\n",
    "cv = StratifiedShuffleSplit(labels_df, n_iter=100, test_size=0.1, random_state = 42)\n",
    "\n",
    "accuracy = evaluate_model(clf_best_adaboost, features_df_scaled, labels_df, 'accuracy' , cv)\n",
    "precision = evaluate_model(clf_best_adaboost, features_df_scaled, labels_df, 'precision' , cv)\n",
    "recall = evaluate_model(clf_best_adaboost, features_df_scaled, labels_df, 'recall' , cv)\n",
    "print 'Accuracy ={0},  Precision = {1}, Recall = {2}'.format(accuracy, precision, recall)"
   ]
  },
  {
   "cell_type": "code",
   "execution_count": 305,
   "metadata": {
    "collapsed": false
   },
   "outputs": [
    {
     "name": "stdout",
     "output_type": "stream",
     "text": [
      "['poi', 'exercised_stock_options', 'total_stock_value', 'bonus', 'salary', 'deferred_income', 'fraction_from_poi', 'fraction_to_poi', 'fraction_emails_with_poi']\n",
      "Accuracy =0.806666666667,  Precision = 0.236666666667, Recall = 0.285\n"
     ]
    }
   ],
   "source": [
    "new_features4 = selected_features  +  new_features\n",
    "print new_features4\n",
    "\n",
    "from poi_dataprocess import *\n",
    "features, labels, features_df_scaled, labels_df = \\\n",
    "prep_features1(df2, new_features4, True)\n",
    "\n",
    "cv = StratifiedShuffleSplit(labels_df, n_iter=100, test_size=0.1, random_state = 42)\n",
    "\n",
    "accuracy = evaluate_model(clf_best_adaboost, features_df_scaled, labels_df, 'accuracy' , cv)\n",
    "precision = evaluate_model(clf_best_adaboost, features_df_scaled, labels_df, 'precision' , cv)\n",
    "recall = evaluate_model(clf_best_adaboost, features_df_scaled, labels_df, 'recall' , cv)\n",
    "print 'Accuracy ={0},  Precision = {1}, Recall = {2}'.format(accuracy, precision, recall)"
   ]
  },
  {
   "cell_type": "markdown",
   "metadata": {},
   "source": [
    "comparision the model performance before and after adding new features:"
   ]
  },
  {
   "cell_type": "code",
   "execution_count": 331,
   "metadata": {
    "collapsed": false
   },
   "outputs": [
    {
     "data": {
      "image/png": "[encoded data removed]",
      "text/plain": [
       "<matplotlib.figure.Figure at 0x10a586510>"
      ]
     },
     "metadata": {},
     "output_type": "display_data"
    }
   ],
   "source": [
    "import pandas\n",
    "import matplotlib.pyplot as plt\n",
    "import numpy as np\n",
    "\n",
    "df_figure = pd.DataFrame(dict(names=['no new features',\"+ 'fraction_from_poi'\",\n",
    "                                     \"+ 'fraction_to_poi'\",\"+ 'fraction_emails_with_poi'\", \n",
    "                                     \"+ 'all new features'\"],\n",
    "                           accuracy=[0.8227, 0.8227,0.7987,0.8193,0.8067], \n",
    "                           precision=[0.3318, 0.2538,0.2332,0.2815,0.2367], \n",
    "                           recall = [0.365, 0.22250, 0.265, 0.335, 0.285])) \n",
    "\n",
    "\n",
    "ind = np.arange(len(df_figure))\n",
    "width = 0.2\n",
    "\n",
    "fig, ax = plt.subplots(figsize=(8,5))\n",
    "\n",
    "ax.barh(ind, df_figure.accuracy, width, color=tableau20[1], label='accuracy')\n",
    "ax.barh(ind + width, df_figure.precision, width, color=tableau20[3], label='precision')\n",
    "ax.barh(ind + width*2, df_figure.recall, width, color=tableau20[5], label='recall')\n",
    "\n",
    "plt.axvline(x=0.3, ymin=0, ymax = 1, linewidth=1, color='red', ls='dashed')\n",
    "\n",
    "ax.set(yticks= ind + 2*width, yticklabels=df_figure.names, \n",
    "       xlim = [0,1], ylim=[5*width - 1, len(df_figure)],\n",
    "      xlabel = \"scores\", title = 'Summary of model performance before and after adding new features')\n",
    "#ax.legend()\n",
    "plt.legend(bbox_to_anchor=(0.95, 0.9),\n",
    "           bbox_transform=plt.gcf().transFigure)\n",
    "\n",
    "plt.show()"
   ]
  },
  {
   "cell_type": "code",
   "execution_count": null,
   "metadata": {
    "collapsed": true
   },
   "outputs": [],
   "source": []
  }
 ],
 "metadata": {
  "kernelspec": {
   "display_name": "Python 2",
   "language": "python",
   "name": "python2"
  },
  "language_info": {
   "codemirror_mode": {
    "name": "ipython",
    "version": 2
   },
   "file_extension": ".py",
   "mimetype": "text/x-python",
   "name": "python",
   "nbconvert_exporter": "python",
   "pygments_lexer": "ipython2",
   "version": "2.7.6"
  }
 },
 "nbformat": 4,
 "nbformat_minor": 0
}
